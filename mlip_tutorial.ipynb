{
 "cells": [
  {
   "cell_type": "code",
   "execution_count": 2,
   "metadata": {},
   "outputs": [
    {
     "name": "stdout",
     "output_type": "stream",
     "text": [
      "Collecting ase\n",
      "  Downloading ase-3.22.0-py3-none-any.whl (2.2 MB)\n",
      "\u001b[K     |████████████████████████████████| 2.2 MB 407 kB/s eta 0:00:01\n",
      "\u001b[?25hRequirement already satisfied: matplotlib>=3.1.0 in /home/luke/.local/lib/python3.8/site-packages (from ase) (3.3.4)\n",
      "Requirement already satisfied: scipy>=1.1.0 in /home/luke/.local/lib/python3.8/site-packages (from ase) (1.6.1)\n",
      "Requirement already satisfied: numpy>=1.15.0 in /home/luke/.local/lib/python3.8/site-packages (from ase) (1.20.2)\n",
      "Requirement already satisfied: pillow>=6.2.0 in /home/luke/anaconda3/lib/python3.8/site-packages (from matplotlib>=3.1.0->ase) (8.0.1)\n",
      "Requirement already satisfied: cycler>=0.10 in /home/luke/.local/lib/python3.8/site-packages (from matplotlib>=3.1.0->ase) (0.10.0)\n",
      "Requirement already satisfied: python-dateutil>=2.1 in /home/luke/anaconda3/lib/python3.8/site-packages (from matplotlib>=3.1.0->ase) (2.8.1)\n",
      "Requirement already satisfied: pyparsing!=2.0.4,!=2.1.2,!=2.1.6,>=2.0.3 in /home/luke/.local/lib/python3.8/site-packages (from matplotlib>=3.1.0->ase) (2.4.7)\n",
      "Requirement already satisfied: kiwisolver>=1.0.1 in /home/luke/.local/lib/python3.8/site-packages (from matplotlib>=3.1.0->ase) (1.3.1)\n",
      "Requirement already satisfied: six in /home/luke/.local/lib/python3.8/site-packages (from cycler>=0.10->matplotlib>=3.1.0->ase) (1.15.0)\n",
      "Installing collected packages: ase\n",
      "Successfully installed ase-3.22.0\n",
      "Note: you may need to restart the kernel to use updated packages.\n"
     ]
    }
   ],
   "source": [
    "pip install ase"
   ]
  },
  {
   "cell_type": "code",
   "execution_count": 1,
   "metadata": {},
   "outputs": [
    {
     "ename": "ModuleNotFoundError",
     "evalue": "No module named 'ase'",
     "output_type": "error",
     "traceback": [
      "\u001b[0;31m---------------------------------------------------------------------------\u001b[0m",
      "\u001b[0;31mModuleNotFoundError\u001b[0m                       Traceback (most recent call last)",
      "\u001b[0;32m<ipython-input-1-8cfd2faa36a4>\u001b[0m in \u001b[0;36m<module>\u001b[0;34m\u001b[0m\n\u001b[1;32m      3\u001b[0m \u001b[0;32mfrom\u001b[0m \u001b[0msubprocess\u001b[0m \u001b[0;32mimport\u001b[0m \u001b[0mrun\u001b[0m\u001b[0;34m,\u001b[0m \u001b[0mPIPE\u001b[0m\u001b[0;34m\u001b[0m\u001b[0;34m\u001b[0m\u001b[0m\n\u001b[1;32m      4\u001b[0m \u001b[0;34m\u001b[0m\u001b[0m\n\u001b[0;32m----> 5\u001b[0;31m \u001b[0;32mfrom\u001b[0m \u001b[0mase\u001b[0m\u001b[0;34m.\u001b[0m\u001b[0msymbols\u001b[0m \u001b[0;32mimport\u001b[0m \u001b[0matomic_numbers\u001b[0m\u001b[0;34m\u001b[0m\u001b[0;34m\u001b[0m\u001b[0m\n\u001b[0m\u001b[1;32m      6\u001b[0m \u001b[0;34m\u001b[0m\u001b[0m\n\u001b[1;32m      7\u001b[0m \u001b[0msys\u001b[0m\u001b[0;34m.\u001b[0m\u001b[0mpath\u001b[0m\u001b[0;34m.\u001b[0m\u001b[0minsert\u001b[0m\u001b[0;34m(\u001b[0m\u001b[0;36m0\u001b[0m\u001b[0;34m,\u001b[0m \u001b[0mos\u001b[0m\u001b[0;34m.\u001b[0m\u001b[0mpath\u001b[0m\u001b[0;34m.\u001b[0m\u001b[0mabspath\u001b[0m\u001b[0;34m(\u001b[0m\u001b[0;34m\"/home/hayden/Programs/mlip-2-mlippy/lib\"\u001b[0m\u001b[0;34m)\u001b[0m\u001b[0;34m)\u001b[0m\u001b[0;34m\u001b[0m\u001b[0;34m\u001b[0m\u001b[0m\n",
      "\u001b[0;31mModuleNotFoundError\u001b[0m: No module named 'ase'"
     ]
    }
   ],
   "source": [
    "import sys\n",
    "import os\n",
    "from subprocess import run, PIPE\n",
    "\n",
    "from ase.symbols import atomic_numbers\n",
    "\n",
    "sys.path.insert(0, os.path.abspath(\"/home/hayden/Programs/mlip-2-mlippy/lib\"))\n",
    "#sys.path.append(\"/home/hayden/Programs/mlip-2-mlippy/bin\")\n",
    "import mlippy"
   ]
  },
  {
   "cell_type": "markdown",
   "metadata": {},
   "source": [
    "# Use either MLIP or ASE relaxation algorithm"
   ]
  },
  {
   "cell_type": "code",
   "execution_count": null,
   "metadata": {},
   "outputs": [],
   "source": [
    "# ASE\n",
    "def relax_atom(struct, calculator, steps=100, maxstep=.03, fmax=.05):\n",
    "    struct.set_calculator(calc=calculator)\n",
    "    dyn = LBFGS(atoms=struct, maxstep=maxstep)\n",
    "    dyn.run(fmax=fmax, steps=steps)\n",
    "    \n",
    "def relax_atoms(atoms, calculator, steps=100, maxstep=.03, fmax=.05):\n",
    "    \"\"\"\n",
    "    Takes in a list of atoms objects and the calculator to use for EFS calculations\n",
    "    \n",
    "    returns a list of relaxed structures, achieved with the LBFGS algorithm\n",
    "    \"\"\"\n",
    "\n",
    "    # Loop through atoms. Their energy, forces, and positions are updated in place\n",
    "    for struct in atoms:\n",
    "        relax_atom(struct, calculator=calculator, steps=steps, maxstep=maxstep, fmax=fmax)\n",
    "  "
   ]
  },
  {
   "cell_type": "markdown",
   "metadata": {},
   "source": [
    " MLIP relaxation example\n",
    " \n",
    "results = mlippy.ase_relax(mlip, to_relax, options, relax_options)"
   ]
  },
  {
   "cell_type": "markdown",
   "metadata": {},
   "source": [
    "# Train a potential"
   ]
  },
  {
   "cell_type": "code",
   "execution_count": null,
   "metadata": {
    "scrolled": true
   },
   "outputs": [],
   "source": [
    "training_set_path = \"train.cfg\"\n",
    "potential_path = \"pot_light.mtp\"\n",
    "\n",
    "# Initialize the potential and load in the template\n",
    "mlippy.initialize()\n",
    "mlip = mlippy.mtp()\n",
    "mlip.load_potential(potential_path)\n",
    "\n",
    "# Load the training set\n",
    "training_set = mlippy.ase_loadcfgs(training_set_path)\n",
    "\n",
    "training_options = {\"max-iter\":\"40\",\n",
    "\"energy-weight\":\"1\",\n",
    "\"force-weight\":\"1e-3\",\n",
    "\"stress-weight\":\"1e-4\",\n",
    "\"skip-preinit\":\"TRUE\",\n",
    "\"no-mindist-update\":\"TRUE\",\n",
    "\"init-params\":\"same\",\n",
    "}"
   ]
  },
  {
   "cell_type": "code",
   "execution_count": null,
   "metadata": {},
   "outputs": [],
   "source": [
    "mlippy.ase_train(mlip, training_set, training_options)\n",
    "errors = mlippy.ase_errors(mlip, training_set)\n",
    "mlip.save_potential('out/Trained.mtp')"
   ]
  },
  {
   "cell_type": "code",
   "execution_count": null,
   "metadata": {},
   "outputs": [],
   "source": [
    "print(\"====== ERROR REPORT =======\")\n",
    "\n",
    "with open(\"out/training_error.txt\", 'w') as f:\n",
    "    for err in errors:\n",
    "        error_val = errors[err].decode('utf8')\n",
    "        print(err, '=', error_val, file=f)\n",
    "        print(err, '=', error_val)"
   ]
  },
  {
   "cell_type": "markdown",
   "metadata": {},
   "source": [
    "### Calcute the extrapolation grade of the training set"
   ]
  },
  {
   "cell_type": "code",
   "execution_count": null,
   "metadata": {
    "scrolled": true
   },
   "outputs": [],
   "source": [
    "mlippy.ase_calcgrade('out/Trained.mtp', training_set_path,\n",
    "                     training_set_path, 'out/tmp.cfg', \n",
    "                     state_file=\"out/state.als\")"
   ]
  },
  {
   "cell_type": "markdown",
   "metadata": {},
   "source": [
    "# Relax a structure"
   ]
  },
  {
   "cell_type": "code",
   "execution_count": null,
   "metadata": {},
   "outputs": [],
   "source": [
    "# potential_path = \"out/Trained.mtp\"\n",
    "state_path = 'out/state.als'\n",
    "mlip = mlippy.mtp(state_path)\n",
    "\n",
    "\n",
    "# with open(\"HfNiTi.yaml\") as f:\n",
    "#     yml_vars = yaml.safe_load(f)\n",
    "\n",
    "# species_map = yml_vars['species']\n",
    "# for spec in species_map:\n",
    "# #     element = species_map[spec]\n",
    "#     mlip.add_atomic_type(atomic_numbers[species_map[spec]])\n",
    "\n",
    "\n",
    "to_relax = mlippy.ase_loadcfgs('to-relax.cfg')\n",
    "\n",
    "options = {\"select\":\"TRUE\", \n",
    "\"mtp-filename\":state_path,\n",
    "\"load-state\":state_path,\n",
    "\"save-selected\":\"out/selected_py.cfg\",\n",
    "\"threshold\":\"2\",\n",
    "\"threshold-break\":\"5\",\n",
    "\"abinitio\":\"null\"\n",
    "}\n",
    "\n",
    "relax_options = {\"iteration-limit\":\"990\",\n",
    "                \"min-dist\":\"1.5\"}"
   ]
  },
  {
   "cell_type": "markdown",
   "metadata": {},
   "source": [
    "We will now use our potential to relax a list of ASE atoms. If these structures do not relax properly they will have an energy value of `None`"
   ]
  },
  {
   "cell_type": "code",
   "execution_count": null,
   "metadata": {},
   "outputs": [],
   "source": [
    "results = mlippy.ase_relax(mlip, to_relax, options, relax_options)"
   ]
  },
  {
   "cell_type": "code",
   "execution_count": null,
   "metadata": {},
   "outputs": [],
   "source": [
    "relaxed = []\n",
    "unrelaxed = []\n",
    "\n",
    "for cfg in results:\n",
    "    if (cfg.energy != None):\n",
    "        relaxed.append(cfg)\n",
    "    else:\n",
    "        unrelaxed.append(cfg)\n",
    "        \n",
    "mlippy.ase_savecfgs('out/relaxed.cfg', relaxed)\n",
    "mlippy.ase_savecfgs('out/unrelaxed.cfg', unrelaxed)"
   ]
  },
  {
   "cell_type": "code",
   "execution_count": null,
   "metadata": {},
   "outputs": [],
   "source": [
    "unrelaxed"
   ]
  },
  {
   "cell_type": "markdown",
   "metadata": {},
   "source": [
    "# Selecting new training structures"
   ]
  },
  {
   "cell_type": "code",
   "execution_count": null,
   "metadata": {
    "scrolled": false
   },
   "outputs": [],
   "source": [
    "mlip = mlippy.mtp('out/Trained.mtp')\n",
    "\n",
    "select_options = {\"selection-limit\":\"20\",\n",
    "                 \"als-filename\":\"out/state.als\"}\n",
    "\n",
    "diff_py = mlippy.ase_select(mlip, results, training_set, select_options)"
   ]
  },
  {
   "cell_type": "code",
   "execution_count": null,
   "metadata": {},
   "outputs": [],
   "source": [
    "# class newMlip(mlippy.mtp):\n",
    "def ase_calc_grade():\n",
    "    print(\"hello there\")"
   ]
  },
  {
   "cell_type": "code",
   "execution_count": null,
   "metadata": {},
   "outputs": [],
   "source": [
    "mlp = newMlip"
   ]
  },
  {
   "cell_type": "code",
   "execution_count": null,
   "metadata": {},
   "outputs": [],
   "source": []
  },
  {
   "cell_type": "code",
   "execution_count": null,
   "metadata": {},
   "outputs": [],
   "source": [
    "type(mlippy)"
   ]
  },
  {
   "cell_type": "code",
   "execution_count": null,
   "metadata": {},
   "outputs": [],
   "source": [
    "mlippy.ase_calcgrade = ase_calc_grade"
   ]
  },
  {
   "cell_type": "code",
   "execution_count": null,
   "metadata": {},
   "outputs": [],
   "source": [
    "mlippy.ase_calcgrade()"
   ]
  },
  {
   "cell_type": "code",
   "execution_count": null,
   "metadata": {},
   "outputs": [],
   "source": []
  }
 ],
 "metadata": {
  "kernelspec": {
   "display_name": "Python 3",
   "language": "python",
   "name": "python3"
  },
  "language_info": {
   "codemirror_mode": {
    "name": "ipython",
    "version": 3
   },
   "file_extension": ".py",
   "mimetype": "text/x-python",
   "name": "python",
   "nbconvert_exporter": "python",
   "pygments_lexer": "ipython3",
   "version": "3.8.5"
  }
 },
 "nbformat": 4,
 "nbformat_minor": 4
}
