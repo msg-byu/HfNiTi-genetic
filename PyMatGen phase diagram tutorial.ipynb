{
 "cells": [
  {
   "cell_type": "markdown",
   "metadata": {},
   "source": [
    "# Building a convex hull from an Atoms Database"
   ]
  },
  {
   "cell_type": "markdown",
   "metadata": {},
   "source": [
    "If you have a bunch of structures stored as a cfg file"
   ]
  },
  {
   "cell_type": "code",
   "execution_count": 1,
   "metadata": {},
   "outputs": [],
   "source": [
    "from mlip import cfg_to_db\n",
    "from ase.db import connect\n",
    "from pymatgen.core.periodic_table import Element\n",
    "from ase.db import connect  # api for connecting to the atoms database\n",
    "import pymatgen.analysis.phase_diagram as PD"
   ]
  },
  {
   "cell_type": "code",
   "execution_count": 2,
   "metadata": {},
   "outputs": [],
   "source": [
    "#input_cfg = \"./it25/relaxed54.cfg\"\n",
    "input_cfg = \"special.cfg\"\n",
    "#input_cfg=\"empty.cfg\"\n",
    "#output_path = \"54relaxed1.db\"\n",
    "output_path = \"cfgs.db\"\n",
    "cfg_to_db(input_cfg, output=output_path, species_map={0:\"Hf\",1:\"Ni\",2:\"Ti\"})"
   ]
  },
  {
   "cell_type": "code",
   "execution_count": 3,
   "metadata": {},
   "outputs": [],
   "source": [
    "db = connect(output_path)"
   ]
  },
  {
   "cell_type": "code",
   "execution_count": 4,
   "metadata": {},
   "outputs": [],
   "source": [
    "structs = [struct.toatoms() for struct in db.select()]"
   ]
  },
  {
   "cell_type": "code",
   "execution_count": 5,
   "metadata": {
    "scrolled": true
   },
   "outputs": [
    {
     "data": {
      "text/plain": [
       "Atoms(symbols='HfTi', pbc=True, cell=[[2.166965891523427, 2.1669658915234273, -2.895658628911801e-16], [-2.166965891523427, 2.1669658915234273, -5.135779235651769e-17], [-9.967428622011559e-17, 1.3464240753281387e-16, 4.247423080496369]], calculator=SinglePointCalculator(...))"
      ]
     },
     "execution_count": 5,
     "metadata": {},
     "output_type": "execute_result"
    }
   ],
   "source": [
    "structs[1]"
   ]
  },
  {
   "cell_type": "code",
   "execution_count": 6,
   "metadata": {},
   "outputs": [],
   "source": [
    "import numpy as np\n",
    "np.set_printoptions(threshold=np.inf)\n",
    "import matplotlib.pyplot as plt"
   ]
  },
  {
   "cell_type": "code",
   "execution_count": 7,
   "metadata": {},
   "outputs": [],
   "source": [
    "energies = [struct.energy/struct.natoms for struct in db.select()]"
   ]
  },
  {
   "cell_type": "code",
   "execution_count": 8,
   "metadata": {},
   "outputs": [
    {
     "data": {
      "text/plain": [
       "-9.853857796267684"
      ]
     },
     "execution_count": 8,
     "metadata": {},
     "output_type": "execute_result"
    }
   ],
   "source": [
    "energies[0]"
   ]
  },
  {
   "cell_type": "code",
   "execution_count": 9,
   "metadata": {},
   "outputs": [
    {
     "data": {
      "text/plain": [
       "[<matplotlib.lines.Line2D at 0x7f2109ca4250>]"
      ]
     },
     "execution_count": 9,
     "metadata": {},
     "output_type": "execute_result"
    },
    {
     "data": {
      "image/png": "[encoded data removed]",
      "text/plain": [
       "<Figure size 432x288 with 1 Axes>"
      ]
     },
     "metadata": {
      "needs_background": "light"
     },
     "output_type": "display_data"
    }
   ],
   "source": [
    "plt.plot(energies)"
   ]
  },
  {
   "cell_type": "code",
   "execution_count": 10,
   "metadata": {},
   "outputs": [
    {
     "data": {
      "text/plain": [
       "7551"
      ]
     },
     "execution_count": 10,
     "metadata": {},
     "output_type": "execute_result"
    }
   ],
   "source": [
    "minen = min(energies)\n",
    "energies.index(minen)"
   ]
  },
  {
   "cell_type": "code",
   "execution_count": 11,
   "metadata": {},
   "outputs": [],
   "source": [
    "#energies[11835]=0"
   ]
  },
  {
   "cell_type": "code",
   "execution_count": 12,
   "metadata": {},
   "outputs": [],
   "source": [
    "\n",
    "#from pymatgen import Element\n"
   ]
  },
  {
   "cell_type": "code",
   "execution_count": 13,
   "metadata": {},
   "outputs": [],
   "source": [
    "# open a connection to the atoms database\n",
    "db = connect(output_path)"
   ]
  },
  {
   "cell_type": "markdown",
   "metadata": {},
   "source": [
    "## Atoms database usage"
   ]
  },
  {
   "cell_type": "code",
   "execution_count": 14,
   "metadata": {},
   "outputs": [
    {
     "name": "stdout",
     "output_type": "stream",
     "text": [
      "<AtomsRow: formula=Hf2Ti2, keys=>\n"
     ]
    }
   ],
   "source": [
    "A = db[10]\n",
    "print(A)  # selects the 10th object in the databse"
   ]
  },
  {
   "cell_type": "markdown",
   "metadata": {},
   "source": [
    "#### Access the ASE Atoms object data from database rows"
   ]
  },
  {
   "cell_type": "markdown",
   "metadata": {},
   "source": [
    "print(A.get_positions())"
   ]
  },
  {
   "cell_type": "markdown",
   "metadata": {},
   "source": [
    "#### Filter database values"
   ]
  },
  {
   "cell_type": "markdown",
   "metadata": {},
   "source": [
    "#### Select multiple rows from the database"
   ]
  },
  {
   "cell_type": "code",
   "execution_count": 15,
   "metadata": {},
   "outputs": [],
   "source": [
    "# nickel_list = db.select(\"Ni>0\")\n",
    "# for struct in nickel_list:\n",
    "#     print(struct)"
   ]
  },
  {
   "cell_type": "markdown",
   "metadata": {},
   "source": [
    "### PyMatGen phase diagram needs formulas and energies"
   ]
  },
  {
   "cell_type": "markdown",
   "metadata": {},
   "source": [
    "#### Extract just formulas and energies and create a list of PDEntry values (required for PD code)"
   ]
  },
  {
   "cell_type": "markdown",
   "metadata": {},
   "source": [
    "for struct in db.select('energy<0'):\n",
    "    print(struct.energy)"
   ]
  },
  {
   "cell_type": "code",
   "execution_count": 19,
   "metadata": {},
   "outputs": [],
   "source": [
    "# Using list comprehension\n",
    "# Usually a good bit faster than a for loop, but harder to read and debug\n",
    "\n",
    "# OLD CODE IS TOO MEMORY INTENSIVE\n",
    "#data = [PD.PDEntry(struct.formula, struct.energy) for struct in db.select()]\n",
    "\n",
    "# Just storing the phase diagram object instead of the data list as well is much more efficient\n",
    "pd = PD.PhaseDiagram([PD.PDEntry(struct.formula, struct.energy, attribute=struct.id) \n",
    "                      for struct in db.select('energy<0')])\n",
    "\n"
   ]
  },
  {
   "cell_type": "code",
   "execution_count": 18,
   "metadata": {},
   "outputs": [
    {
     "data": {
      "text/plain": [
       "51394"
      ]
     },
     "execution_count": 18,
     "metadata": {},
     "output_type": "execute_result"
    }
   ],
   "source": [
    "len(db)"
   ]
  },
  {
   "cell_type": "markdown",
   "metadata": {},
   "source": [
    "### Plotting the phase diagram"
   ]
  },
  {
   "cell_type": "markdown",
   "metadata": {},
   "source": [
    "### We need to record and recall the database entry in the HfNiTi \n",
    "We can set a dictionary entry called \"attribute\" for each of the PDEntry objects.\n",
    "When we're initializing the PD that information is preserved, which means we\n",
    "can recall the database ID of each structure once the phase diagram has been \n",
    "produced"
   ]
  },
  {
   "cell_type": "code",
   "execution_count": null,
   "metadata": {},
   "outputs": [],
   "source": [
    "#stables = pd.get_stable_entries_normed()\n",
    "\n",
    "#for struct in stables:\n",
    "#    print(struct.attribute)"
   ]
  },
  {
   "cell_type": "code",
   "execution_count": null,
   "metadata": {},
   "outputs": [],
   "source": [
    "#mtp_db_ID = [struct.attribute for struct in pd.get_stable_entries_normed()]"
   ]
  },
  {
   "cell_type": "code",
   "execution_count": null,
   "metadata": {},
   "outputs": [],
   "source": [
    "# hull_db = connect('hull_mtp.db')\n",
    "\n",
    "# for ID in mtp_db_ID:\n",
    "#     struct = db.get(ID)\n",
    "#     hull_db.write(struct)"
   ]
  },
  {
   "cell_type": "code",
   "execution_count": null,
   "metadata": {},
   "outputs": [],
   "source": [
    "#pd = PD.PhaseDiagram(data)  # creates a phase diagram object"
   ]
  },
  {
   "cell_type": "code",
   "execution_count": 20,
   "metadata": {},
   "outputs": [
    {
     "data": {
      "text/plain": [
       "<bound method BasePhaseDiagram.get_composition_chempots of Hf-Ti-Ni phase diagram\n",
       "8 stable phases: \n",
       "HfNi, Ti, HfNi3, Hf2Ni, Hf, Ni, TiNi7, TiNi3>"
      ]
     },
     "execution_count": 20,
     "metadata": {},
     "output_type": "execute_result"
    }
   ],
   "source": [
    "# Print out which structures lie on the convex hull\n",
    "# pd = data\n",
    "pd.get_composition_chempots"
   ]
  },
  {
   "cell_type": "code",
   "execution_count": 21,
   "metadata": {},
   "outputs": [
    {
     "data": {
      "text/plain": [
       "{PDEntry : Hf2 Ni6 with energy = -57.1346,\n",
       " PDEntry : Hf2 with energy = -19.8848,\n",
       " PDEntry : Hf4 Ni2 with energy = -52.9520,\n",
       " PDEntry : Hf4 Ni4 with energy = -65.5332,\n",
       " PDEntry : Ni2 with energy = -10.9063,\n",
       " PDEntry : Ni6 Ti2 with energy = -52.6248,\n",
       " PDEntry : Ni7 Ti1 with energy = -48.1667,\n",
       " PDEntry : Ti2 with energy = -16.5097}"
      ]
     },
     "execution_count": 21,
     "metadata": {},
     "output_type": "execute_result"
    }
   ],
   "source": [
    "pd.stable_entries"
   ]
  },
  {
   "cell_type": "code",
   "execution_count": 22,
   "metadata": {
    "scrolled": true
   },
   "outputs": [],
   "source": [
    "from matplotlib import pyplot as plt\n",
    "# fig = plt.figure()\n",
    "\n",
    "elements = [Element(\"Hf\"),Element(\"Ni\"),Element(\"Ti\")]\n",
    "pd_plot = PD.PDPlotter(pd, show_unstable=.02)  # , elements=elements)#, show_unstable=.02)\n",
    "# chull = pd_plot.get_plot(label_stable=False, label_unstable=False)\n",
    "\n",
    "\n",
    "# chull.title(\"Test\")\n",
    "# chull.tight_layout()\n",
    "# chull.savefig('chull.png', dpi=500, pad_inches=0.1 )\n",
    "# pd_plot_data\n",
    "\n",
    "# pd_plot.show()"
   ]
  },
  {
   "cell_type": "markdown",
   "metadata": {},
   "source": [
    "#### Create a 3d Plot"
   ]
  },
  {
   "cell_type": "code",
   "execution_count": 23,
   "metadata": {},
   "outputs": [
    {
     "data": {
      "application/vnd.plotly.v1+json": {
       "config": {
        "plotlyServerURL": "https://plot.ly"
       },
       "data": [
        {
         "hoverinfo": "none",
         "line": {
          "color": "rgba(0,0,0,1.0)",
          "width": 7
         },
         "mode": "lines",
         "showlegend": false,
         "type": "scatter3d",
         "x": [
          0.649519052838329,
          0,
          null,
          0.649519052838329,
          0.8660254037844386,
          null,
          0.4330127018922193,
          0,
          null,
          0.7577722283113838,
          0.649519052838329,
          null,
          0.7577722283113838,
          0.8660254037844386,
          null,
          0.649519052838329,
          0.7577722283113838,
          null,
          0,
          0,
          null,
          0.28867513459481287,
          0,
          null,
          0.4330127018922193,
          0.28867513459481287,
          null,
          0.649519052838329,
          0.649519052838329,
          null,
          0.649519052838329,
          0,
          null,
          0.4330127018922193,
          0.649519052838329,
          null,
          0.28867513459481287,
          0,
          null
         ],
         "y": [
          0.625,
          1,
          null,
          0.375,
          0.5,
          null,
          0.25,
          1,
          null,
          0.5625,
          0.375,
          null,
          0.5625,
          0.5,
          null,
          0.625,
          0.5625,
          null,
          1,
          0,
          null,
          0.16666666666666666,
          0,
          null,
          0.25,
          0.16666666666666666,
          null,
          0.625,
          0.375,
          null,
          0.375,
          1,
          null,
          0.25,
          0.375,
          null,
          0.16666666666666666,
          1,
          null
         ],
         "z": [
          -0.42451593702501533,
          0,
          null,
          -0.5663497858285957,
          0,
          null,
          -0.49386707597813473,
          0,
          null,
          -0.21745931279146635,
          -0.5663497858285957,
          null,
          -0.21745931279146635,
          0,
          null,
          -0.42451593702501533,
          -0.21745931279146635,
          null,
          0,
          0,
          null,
          -0.3793534282457654,
          0,
          null,
          -0.49386707597813473,
          -0.3793534282457654,
          null,
          -0.42451593702501533,
          -0.5663497858285957,
          null,
          -0.5663497858285957,
          0,
          null,
          -0.49386707597813473,
          -0.5663497858285957,
          null,
          -0.3793534282457654,
          0,
          null
         ]
        },
        {
         "hoverinfo": "none",
         "line": {
          "color": "rgba (0, 0, 0, 0.4)",
          "dash": "solid",
          "width": 1
         },
         "mode": "lines",
         "showlegend": false,
         "type": "scatter3d",
         "x": [
          0.8660254037844386,
          0,
          null,
          0.8660254037844386,
          0,
          null,
          0.8660254037844386,
          0,
          null,
          0.8660254037844386,
          0,
          null,
          0,
          0,
          null,
          0,
          0,
          null,
          0.8660254037844386,
          0.8660254037844386,
          null,
          0,
          0,
          null,
          0,
          0,
          null
         ],
         "y": [
          0.5,
          1,
          null,
          0.5,
          1,
          null,
          0.5,
          0,
          null,
          0.5,
          0,
          null,
          1,
          0,
          null,
          1,
          0,
          null,
          0.5,
          0.5,
          null,
          1,
          1,
          null,
          0,
          0,
          null
         ],
         "z": [
          0,
          0,
          null,
          -0.5663497858285957,
          -0.5663497858285957,
          null,
          0,
          0,
          null,
          -0.5663497858285957,
          -0.5663497858285957,
          null,
          0,
          0,
          null,
          -0.5663497858285957,
          -0.5663497858285957,
          null,
          0,
          -0.5663497858285957,
          null,
          0,
          -0.5663497858285957,
          null,
          0,
          -0.5663497858285957,
          null
         ]
        },
        {
         "colorbar": {
          "len": 0.75,
          "title": {
           "text": "Formation energy<br>(eV/atom)"
          },
          "x": 0.9
         },
         "colorscale": [
          [
           0,
           "#0c8c00"
          ],
          [
           0.5,
           "#d8ffd4"
          ],
          [
           1,
           "#ffffff"
          ]
         ],
         "flatshading": true,
         "hoverinfo": "none",
         "i": [
          117,
          118,
          117,
          2,
          21,
          21
         ],
         "intensity": [
          -0.1621786228768931,
          -0.2834615509805853,
          -0.42451593702501533,
          -0.21613064080576266,
          -0.2324938685510022,
          -0.17509483297252512,
          -0.21745931279146635,
          -0.14531987137818525,
          -0.012240697351131757,
          -0.2117998829016571,
          -0.2785934917203759,
          -0.2667115627538092,
          -0.057473887281391,
          -0.19292990939853638,
          -0.24995462355228515,
          -0.08189936670494243,
          -0.1822965626304338,
          -0.04006333860111777,
          -0.09705284178172491,
          -0.49386707597813473,
          -0.46323708101122996,
          -0.5663497858285957,
          -0.31369482339833327,
          -0.3185242710099712,
          -0.2271604921555743,
          -0.26773299642674964,
          -0.181760597812089,
          -0.16852699867613077,
          -0.3263732587066466,
          -0.30742126099708855,
          -0.3538633361809076,
          -0.3412921673595853,
          -0.4936870789751895,
          -0.31588218933345835,
          -0.018942148376074996,
          -0.14748897609757136,
          -0.24485482026519634,
          -0.2756223602583674,
          -0.3174172526502028,
          -0.3296354576018001,
          -0.07172723980691369,
          -0.17819171381899374,
          -0.23083398534816357,
          -0.24566086121248373,
          -0.09481421152906755,
          -0.15949369196277197,
          -0.050162164686200744,
          -0.3793534282457654,
          -0.46990196464776657,
          -0.42100626283682324,
          -0.37979267599426536,
          -0.1218098753213912,
          -0.27765953889444006,
          -0.3580838214005458,
          -0.35054118739751977,
          -0.38342320537838415,
          -0.39110331358488615,
          -0.013687977019766605,
          -0.250675299732604,
          -0.31121263073817257,
          -0.06505152865394491,
          -0.15965719421914848,
          -0.21984230281589923,
          -0.10581399039465743,
          -0.23448864148756599,
          -0.364874346781086,
          -0.421790274256595,
          -0.44469892513430764,
          -0.4944225567749939,
          -0.09520756558589057,
          -0.27062282321351344,
          -0.3050312981843959,
          -0.39744094248538353,
          -0.3932324874108054,
          -0.4126326333500856,
          -0.12881786667147463,
          -0.21781504572183863,
          -0.27931045405799027,
          -0.327096160602629,
          -0.06479310220940349,
          -0.22027619316698405,
          -0.10066331248127511,
          -0.17011308041121254,
          -0.40526493699549854,
          -0.43358826598568595,
          -0.0610975074387774,
          -0.1950225974523708,
          -0.2833416887294611,
          -0.342516165551367,
          -0.4094652134931252,
          -0.2109398464245626,
          -0.05403558230655866,
          -0.14005502092689426,
          -0.11295050084475733,
          -0.2581903199969539,
          -0.34307249817943664,
          -0.39252125956046136,
          -0.0232700733614826,
          -0.16970996256257287,
          -0.25662038152303523,
          -0.31462365115194757,
          -0.09310367739175421,
          -0.18597485308239498,
          -0.06600041669117047,
          -0.0838378935256746,
          -0.01232877358584794,
          -0.15921369819444287,
          -0.2329813569487115,
          -0.06892531326873552,
          -0.18157258692365177,
          -0.274912005238788,
          -0.017430325581438904,
          -0.12869874620193117,
          -0.05740673344686956,
          -0.024570918333087378,
          -0.038840352714207424,
          0,
          0,
          0
         ],
         "j": [
          47,
          47,
          21,
          21,
          6,
          6
         ],
         "k": [
          19,
          117,
          19,
          117,
          116,
          2
         ],
         "lighting": {
          "ambient": 1,
          "diffuse": 0
         },
         "name": "Convex Hull (shading)",
         "opacity": 0.8,
         "showlegend": true,
         "type": "mesh3d",
         "x": [
          0.4330127018922193,
          0.5773502691896257,
          0.649519052838329,
          0.6928203230275509,
          0.7216878364870322,
          0.7423074889580902,
          0.7577722283113838,
          0.7698003589195009,
          0.28867513459481287,
          0.5196152422706631,
          0.6185895741317419,
          0.6735753140545634,
          0.34641016151377546,
          0.49487165930539345,
          0.5412658773652741,
          0.3711537444790451,
          0.4811252243246881,
          0.3247595264191645,
          0.38490017945975047,
          0.4330127018922193,
          0.5773502691896257,
          0.649519052838329,
          0.6928203230275509,
          0.7216878364870322,
          0.7423074889580902,
          0.7577722283113838,
          0.7698003589195009,
          0.28867513459481287,
          0.4330127018922193,
          0.5196152422706631,
          0.5773502691896257,
          0.6185895741317419,
          0.649519052838329,
          0.6735753140545634,
          0.21650635094610965,
          0.34641016151377546,
          0.4330127018922193,
          0.49487165930539345,
          0.5412658773652741,
          0.5773502691896257,
          0.28867513459481287,
          0.3711537444790451,
          0.4330127018922193,
          0.4811252243246881,
          0.3247595264191645,
          0.38490017945975047,
          0.28867513459481287,
          0.28867513459481287,
          0.5196152422706631,
          0.6185895741317419,
          0.6735753140545634,
          0.21650635094610965,
          0.34641016151377546,
          0.4330127018922193,
          0.49487165930539345,
          0.5412658773652741,
          0.5773502691896257,
          0.17320508075688773,
          0.3711537444790451,
          0.4811252243246881,
          0.24743582965269673,
          0.3247595264191645,
          0.38490017945975047,
          0.28867513459481287,
          0.21650635094610965,
          0.34641016151377546,
          0.49487165930539345,
          0.5412658773652741,
          0.606217782649107,
          0.17320508075688773,
          0.28867513459481287,
          0.3711537444790451,
          0.4330127018922193,
          0.4811252243246881,
          0.5196152422706631,
          0.24743582965269673,
          0.3247595264191645,
          0.38490017945975047,
          0.4330127018922193,
          0.21650635094610965,
          0.34641016151377546,
          0.25980762113533157,
          0.17320508075688773,
          0.3711537444790451,
          0.4811252243246881,
          0.14433756729740643,
          0.24743582965269673,
          0.3247595264191645,
          0.38490017945975047,
          0.4330127018922193,
          0.28867513459481287,
          0.19245008972987523,
          0.25980762113533157,
          0.14433756729740643,
          0.24743582965269673,
          0.3247595264191645,
          0.38490017945975047,
          0.12371791482634836,
          0.21650635094610965,
          0.28867513459481287,
          0.34641016151377546,
          0.19245008972987523,
          0.25980762113533157,
          0.17320508075688773,
          0.12371791482634836,
          0.10825317547305482,
          0.19245008972987523,
          0.25980762113533157,
          0.10825317547305482,
          0.19245008972987523,
          0.25980762113533157,
          0.09622504486493762,
          0.17320508075688773,
          0.09622504486493762,
          0.08660254037844387,
          0.08660254037844387,
          0.8660254037844386,
          0,
          0
         ],
         "y": [
          0.75,
          0.6666666666666666,
          0.625,
          0.6000000000000001,
          0.5833333333333334,
          0.5714285714285714,
          0.5625,
          0.5555555555555556,
          0.8333333333333333,
          0.7,
          0.6428571428571428,
          0.6111111111111112,
          0.8,
          0.7142857142857142,
          0.6875,
          0.7857142857142857,
          0.7222222222222222,
          0.8125,
          0.7777777777777778,
          0.25,
          0.3333333333333333,
          0.375,
          0.4,
          0.4166666666666667,
          0.42857142857142855,
          0.4375,
          0.4444444444444444,
          0.5,
          0.5,
          0.5,
          0.5,
          0.5,
          0.5,
          0.5,
          0.625,
          0.6000000000000001,
          0.5833333333333333,
          0.5714285714285714,
          0.5625,
          0.5555555555555556,
          0.6666666666666666,
          0.6428571428571428,
          0.625,
          0.6111111111111112,
          0.6875,
          0.6666666666666666,
          0.7222222222222222,
          0.16666666666666666,
          0.3,
          0.35714285714285715,
          0.3888888888888889,
          0.375,
          0.4,
          0.41666666666666663,
          0.42857142857142855,
          0.4375,
          0.4444444444444444,
          0.5,
          0.5,
          0.5,
          0.5714285714285714,
          0.5625,
          0.5555555555555556,
          0.611111111111111,
          0.125,
          0.2,
          0.2857142857142857,
          0.3125,
          0.35,
          0.30000000000000004,
          0.3333333333333333,
          0.3571428571428571,
          0.375,
          0.3888888888888889,
          0.4,
          0.42857142857142855,
          0.4375,
          0.4444444444444444,
          0.45,
          0.5,
          0.5,
          0.55,
          0.1,
          0.21428571428571427,
          0.2777777777777778,
          0.25,
          0.2857142857142857,
          0.3125,
          0.3333333333333333,
          0.35,
          0.38888888888888884,
          0.4444444444444444,
          0.44999999999999996,
          0.08333333333333333,
          0.14285714285714285,
          0.1875,
          0.2222222222222222,
          0.21428571428571427,
          0.25,
          0.2777777777777778,
          0.30000000000000004,
          0.3333333333333333,
          0.35,
          0.4,
          0.07142857142857142,
          0.1875,
          0.2222222222222222,
          0.25,
          0.0625,
          0.1111111111111111,
          0.15,
          0.16666666666666666,
          0.2,
          0.05555555555555555,
          0.15000000000000002,
          0.05,
          0.5,
          1,
          0
         ],
         "z": [
          -0.1621786228768931,
          -0.2834615509805853,
          -0.42451593702501533,
          -0.21613064080576266,
          -0.2324938685510022,
          -0.17509483297252512,
          -0.21745931279146635,
          -0.14531987137818525,
          -0.012240697351131757,
          -0.2117998829016571,
          -0.2785934917203759,
          -0.2667115627538092,
          -0.057473887281391,
          -0.19292990939853638,
          -0.24995462355228515,
          -0.08189936670494243,
          -0.1822965626304338,
          -0.04006333860111777,
          -0.09705284178172491,
          -0.49386707597813473,
          -0.46323708101122996,
          -0.5663497858285957,
          -0.31369482339833327,
          -0.3185242710099712,
          -0.2271604921555743,
          -0.26773299642674964,
          -0.181760597812089,
          -0.16852699867613077,
          -0.3263732587066466,
          -0.30742126099708855,
          -0.3538633361809076,
          -0.3412921673595853,
          -0.4936870789751895,
          -0.31588218933345835,
          -0.018942148376074996,
          -0.14748897609757136,
          -0.24485482026519634,
          -0.2756223602583674,
          -0.3174172526502028,
          -0.3296354576018001,
          -0.07172723980691369,
          -0.17819171381899374,
          -0.23083398534816357,
          -0.24566086121248373,
          -0.09481421152906755,
          -0.15949369196277197,
          -0.050162164686200744,
          -0.3793534282457654,
          -0.46990196464776657,
          -0.42100626283682324,
          -0.37979267599426536,
          -0.1218098753213912,
          -0.27765953889444006,
          -0.3580838214005458,
          -0.35054118739751977,
          -0.38342320537838415,
          -0.39110331358488615,
          -0.013687977019766605,
          -0.250675299732604,
          -0.31121263073817257,
          -0.06505152865394491,
          -0.15965719421914848,
          -0.21984230281589923,
          -0.10581399039465743,
          -0.23448864148756599,
          -0.364874346781086,
          -0.421790274256595,
          -0.44469892513430764,
          -0.4944225567749939,
          -0.09520756558589057,
          -0.27062282321351344,
          -0.3050312981843959,
          -0.39744094248538353,
          -0.3932324874108054,
          -0.4126326333500856,
          -0.12881786667147463,
          -0.21781504572183863,
          -0.27931045405799027,
          -0.327096160602629,
          -0.06479310220940349,
          -0.22027619316698405,
          -0.10066331248127511,
          -0.17011308041121254,
          -0.40526493699549854,
          -0.43358826598568595,
          -0.0610975074387774,
          -0.1950225974523708,
          -0.2833416887294611,
          -0.342516165551367,
          -0.4094652134931252,
          -0.2109398464245626,
          -0.05403558230655866,
          -0.14005502092689426,
          -0.11295050084475733,
          -0.2581903199969539,
          -0.34307249817943664,
          -0.39252125956046136,
          -0.0232700733614826,
          -0.16970996256257287,
          -0.25662038152303523,
          -0.31462365115194757,
          -0.09310367739175421,
          -0.18597485308239498,
          -0.06600041669117047,
          -0.0838378935256746,
          -0.01232877358584794,
          -0.15921369819444287,
          -0.2329813569487115,
          -0.06892531326873552,
          -0.18157258692365177,
          -0.274912005238788,
          -0.017430325581438904,
          -0.12869874620193117,
          -0.05740673344686956,
          -0.024570918333087378,
          -0.038840352714207424,
          0,
          0,
          0
         ]
        },
        {
         "hoverinfo": "skip",
         "mode": "text",
         "name": "Labels (stable)",
         "opacity": 1,
         "showlegend": true,
         "text": [
          "TiNi<sub>3</sub>",
          "HfNi<sub>3</sub>",
          "HfNi",
          "TiNi<sub>7</sub>",
          "Hf<sub>2</sub>Ni"
         ],
         "textposition": [
          "middle center",
          "middle center",
          "middle center",
          "middle center",
          "middle center"
         ],
         "type": "scatter3d",
         "visible": true,
         "x": [
          0.639519052838329,
          0.639519052838329,
          0.4230127018922193,
          0.7477722283113838,
          0.2986751345948129
         ],
         "y": [
          0.635,
          0.365,
          0.24,
          0.5725,
          0.15666666666666665
         ],
         "z": [
          -0.36788095844215574,
          -0.5097148072457361,
          -0.43723209739527513,
          -0.16082433420860678,
          -0.3227184496629058
         ]
        },
        {
         "hoverinfo": "text",
         "hoverlabel": {
          "font": {
           "size": 14
          }
         },
         "hovertext": [
          "TiNi<sub>3</sub> (no ID) <br> -0.425 eV/atom (+0.0 eV/atom)",
          "TiNi<sub>3</sub> (no ID) <br> -0.425 eV/atom (+0.0 eV/atom)",
          "TiNi<sub>3</sub> (no ID) <br> -0.425 eV/atom (+0.0 eV/atom)",
          "TiNi<sub>3</sub> (no ID) <br> -0.425 eV/atom (+0.0 eV/atom)",
          "TiNi<sub>3</sub> (no ID) <br> -0.425 eV/atom (+0.0 eV/atom)",
          "TiNi<sub>3</sub> (no ID) <br> -0.425 eV/atom (+0.0 eV/atom)",
          "TiNi<sub>3</sub> (no ID) <br> -0.425 eV/atom (+0.0 eV/atom)",
          "TiNi<sub>3</sub> (no ID) <br> -0.425 eV/atom (+0.0 eV/atom)",
          "TiNi<sub>3</sub> (no ID) <br> -0.425 eV/atom (+0.0 eV/atom)",
          "TiNi<sub>3</sub> (no ID) <br> -0.425 eV/atom (+0.0 eV/atom)",
          "TiNi<sub>3</sub> (no ID) <br> -0.425 eV/atom (+0.0 eV/atom)",
          "TiNi<sub>3</sub> (no ID) <br> -0.425 eV/atom (+0.0 eV/atom)",
          "TiNi<sub>7</sub> (no ID) <br> -0.207 eV/atom (+0.01 eV/atom)",
          "TiNi<sub>7</sub> (no ID) <br> -0.214 eV/atom (+0.004 eV/atom)",
          "HfNi (no ID) <br> -0.484 eV/atom (+0.01 eV/atom)",
          "HfNi (no ID) <br> -0.489 eV/atom (+0.005 eV/atom)",
          "HfNi (no ID) <br> -0.484 eV/atom (+0.01 eV/atom)",
          "HfNi (no ID) <br> -0.494 eV/atom (+0.0 eV/atom)",
          "HfNi (no ID) <br> -0.484 eV/atom (+0.01 eV/atom)",
          "HfNi (no ID) <br> -0.484 eV/atom (+0.01 eV/atom)",
          "HfNi (no ID) <br> -0.489 eV/atom (+0.005 eV/atom)",
          "HfNi (no ID) <br> -0.494 eV/atom (+0.0 eV/atom)",
          "HfNi (no ID) <br> -0.489 eV/atom (+0.005 eV/atom)",
          "HfNi (no ID) <br> -0.484 eV/atom (+0.01 eV/atom)",
          "HfNi (no ID) <br> -0.484 eV/atom (+0.01 eV/atom)",
          "HfNi (no ID) <br> -0.489 eV/atom (+0.005 eV/atom)",
          "HfNi (no ID) <br> -0.489 eV/atom (+0.005 eV/atom)",
          "HfNi (no ID) <br> -0.484 eV/atom (+0.01 eV/atom)",
          "HfNi (no ID) <br> -0.484 eV/atom (+0.01 eV/atom)",
          "HfNi (no ID) <br> -0.484 eV/atom (+0.01 eV/atom)",
          "HfNi (no ID) <br> -0.489 eV/atom (+0.005 eV/atom)",
          "HfNi (no ID) <br> -0.489 eV/atom (+0.005 eV/atom)",
          "HfNi (no ID) <br> -0.494 eV/atom (+0.0 eV/atom)",
          "HfNi (no ID) <br> -0.484 eV/atom (+0.01 eV/atom)",
          "HfNi (no ID) <br> -0.489 eV/atom (+0.005 eV/atom)",
          "HfNi (no ID) <br> -0.489 eV/atom (+0.005 eV/atom)",
          "HfNi (no ID) <br> -0.484 eV/atom (+0.01 eV/atom)",
          "HfNi (no ID) <br> -0.489 eV/atom (+0.005 eV/atom)",
          "HfNi (no ID) <br> -0.489 eV/atom (+0.005 eV/atom)",
          "HfNi (no ID) <br> -0.489 eV/atom (+0.005 eV/atom)",
          "HfNi (no ID) <br> -0.494 eV/atom (+0.0 eV/atom)",
          "HfNi<sub>3</sub> (no ID) <br> -0.566 eV/atom (+0.0 eV/atom)",
          "HfNi<sub>3</sub> (no ID) <br> -0.566 eV/atom (+0.0 eV/atom)",
          "HfNi<sub>3</sub> (no ID) <br> -0.566 eV/atom (+0.0 eV/atom)",
          "HfNi<sub>3</sub> (no ID) <br> -0.566 eV/atom (+0.0 eV/atom)",
          "HfNi<sub>3</sub> (no ID) <br> -0.566 eV/atom (+0.0 eV/atom)",
          "HfNi<sub>3</sub> (no ID) <br> -0.566 eV/atom (+0.0 eV/atom)",
          "HfNi<sub>3</sub> (no ID) <br> -0.566 eV/atom (+0.0 eV/atom)",
          "HfNi<sub>3</sub> (no ID) <br> -0.566 eV/atom (+0.0 eV/atom)",
          "HfNi<sub>3</sub> (no ID) <br> -0.566 eV/atom (+0.0 eV/atom)",
          "HfNi<sub>3</sub> (no ID) <br> -0.566 eV/atom (+0.0 eV/atom)",
          "HfNi<sub>3</sub> (no ID) <br> -0.566 eV/atom (+0.0 eV/atom)",
          "HfNi<sub>3</sub> (no ID) <br> -0.566 eV/atom (+0.0 eV/atom)",
          "HfNi<sub>3</sub> (no ID) <br> -0.566 eV/atom (+0.0 eV/atom)",
          "HfNi<sub>3</sub> (no ID) <br> -0.566 eV/atom (+0.0 eV/atom)",
          "HfNi<sub>3</sub> (no ID) <br> -0.566 eV/atom (+0.0 eV/atom)",
          "HfNi<sub>3</sub> (no ID) <br> -0.566 eV/atom (+0.0 eV/atom)",
          "HfNi<sub>7</sub> (no ID) <br> -0.268 eV/atom (+0.015 eV/atom)",
          "HfTiNi<sub>6</sub> (no ID) <br> -0.494 eV/atom (+0.002 eV/atom)",
          "HfTiNi<sub>6</sub> (no ID) <br> -0.494 eV/atom (+0.002 eV/atom)",
          "HfTiNi<sub>6</sub> (no ID) <br> -0.494 eV/atom (+0.002 eV/atom)",
          "HfTiNi<sub>6</sub> (no ID) <br> -0.494 eV/atom (+0.002 eV/atom)",
          "HfTiNi<sub>6</sub> (no ID) <br> -0.494 eV/atom (+0.002 eV/atom)",
          "HfTiNi<sub>6</sub> (no ID) <br> -0.494 eV/atom (+0.002 eV/atom)",
          "HfTiNi<sub>6</sub> (no ID) <br> -0.494 eV/atom (+0.002 eV/atom)",
          "HfTiNi<sub>6</sub> (no ID) <br> -0.494 eV/atom (+0.002 eV/atom)",
          "HfTiNi<sub>6</sub> (no ID) <br> -0.494 eV/atom (+0.002 eV/atom)",
          "HfTiNi<sub>6</sub> (no ID) <br> -0.494 eV/atom (+0.002 eV/atom)",
          "HfTiNi<sub>6</sub> (no ID) <br> -0.494 eV/atom (+0.002 eV/atom)",
          "HfTiNi<sub>6</sub> (no ID) <br> -0.494 eV/atom (+0.002 eV/atom)",
          "HfTiNi<sub>6</sub> (no ID) <br> -0.494 eV/atom (+0.002 eV/atom)",
          "HfTiNi<sub>6</sub> (no ID) <br> -0.494 eV/atom (+0.002 eV/atom)",
          "HfTiNi<sub>6</sub> (no ID) <br> -0.494 eV/atom (+0.002 eV/atom)",
          "Hf<sub>2</sub>Ni (no ID) <br> -0.379 eV/atom (+0.0 eV/atom)"
         ],
         "marker": {
          "color": [
           0,
           0,
           0,
           0,
           0,
           0,
           0,
           0,
           0,
           0,
           0,
           0,
           0.01,
           0.004,
           0.01,
           0.005,
           0.01,
           0,
           0.01,
           0.01,
           0.005,
           0,
           0.005,
           0.01,
           0.01,
           0.005,
           0.005,
           0.01,
           0.01,
           0.01,
           0.005,
           0.005,
           0,
           0.01,
           0.005,
           0.005,
           0.01,
           0.005,
           0.005,
           0.005,
           0,
           0,
           0,
           0,
           0,
           0,
           0,
           0,
           0,
           0,
           0,
           0,
           0,
           0,
           0,
           0,
           0,
           0.015,
           0.002,
           0.002,
           0.002,
           0.002,
           0.002,
           0.002,
           0.002,
           0.002,
           0.002,
           0.002,
           0.002,
           0.002,
           0.002,
           0.002,
           0.002,
           0
          ],
          "colorbar": {
           "len": 0.75,
           "title": {
            "text": "Energy Above Hull<br>(eV/atom)"
           },
           "x": 0.05
          },
          "colorscale": [
           [
            0,
            "#fad393"
           ],
           [
            0.5,
            "#ff813d"
           ],
           [
            1,
            "#ff0000"
           ]
          ],
          "size": 6,
          "symbol": "diamond"
         },
         "mode": "markers",
         "name": "Above Hull",
         "showlegend": true,
         "type": "scatter3d",
         "x": [
          0.649519052838329,
          0.649519052838329,
          0.649519052838329,
          0.649519052838329,
          0.649519052838329,
          0.649519052838329,
          0.649519052838329,
          0.649519052838329,
          0.649519052838329,
          0.649519052838329,
          0.649519052838329,
          0.649519052838329,
          0.7577722283113838,
          0.7577722283113838,
          0.4330127018922193,
          0.4330127018922193,
          0.4330127018922193,
          0.4330127018922193,
          0.4330127018922193,
          0.4330127018922193,
          0.4330127018922193,
          0.4330127018922193,
          0.4330127018922193,
          0.4330127018922193,
          0.4330127018922193,
          0.4330127018922193,
          0.4330127018922193,
          0.4330127018922193,
          0.4330127018922193,
          0.4330127018922193,
          0.4330127018922193,
          0.4330127018922193,
          0.4330127018922193,
          0.4330127018922193,
          0.4330127018922193,
          0.4330127018922193,
          0.4330127018922193,
          0.4330127018922193,
          0.4330127018922193,
          0.4330127018922193,
          0.4330127018922193,
          0.649519052838329,
          0.649519052838329,
          0.649519052838329,
          0.649519052838329,
          0.649519052838329,
          0.649519052838329,
          0.649519052838329,
          0.649519052838329,
          0.649519052838329,
          0.649519052838329,
          0.649519052838329,
          0.649519052838329,
          0.649519052838329,
          0.649519052838329,
          0.649519052838329,
          0.649519052838329,
          0.7577722283113838,
          0.649519052838329,
          0.649519052838329,
          0.649519052838329,
          0.649519052838329,
          0.649519052838329,
          0.649519052838329,
          0.649519052838329,
          0.649519052838329,
          0.649519052838329,
          0.649519052838329,
          0.649519052838329,
          0.649519052838329,
          0.649519052838329,
          0.649519052838329,
          0.649519052838329,
          0.28867513459481287
         ],
         "y": [
          0.625,
          0.625,
          0.625,
          0.625,
          0.625,
          0.625,
          0.625,
          0.625,
          0.625,
          0.625,
          0.625,
          0.625,
          0.5625,
          0.5625,
          0.25,
          0.25,
          0.25,
          0.25,
          0.25,
          0.25,
          0.25,
          0.25,
          0.25,
          0.25,
          0.25,
          0.25,
          0.25,
          0.25,
          0.25,
          0.25,
          0.25,
          0.25,
          0.25,
          0.25,
          0.25,
          0.25,
          0.25,
          0.25,
          0.25,
          0.25,
          0.25,
          0.375,
          0.375,
          0.375,
          0.375,
          0.375,
          0.375,
          0.375,
          0.375,
          0.375,
          0.375,
          0.375,
          0.375,
          0.375,
          0.375,
          0.375,
          0.375,
          0.4375,
          0.5,
          0.5,
          0.5,
          0.5,
          0.5,
          0.5,
          0.5,
          0.5,
          0.5,
          0.5,
          0.5,
          0.5,
          0.5,
          0.5,
          0.5,
          0.16666666666666666
         ],
         "z": [
          -0.425,
          -0.425,
          -0.425,
          -0.425,
          -0.425,
          -0.425,
          -0.425,
          -0.425,
          -0.425,
          -0.425,
          -0.425,
          -0.425,
          -0.207,
          -0.214,
          -0.484,
          -0.489,
          -0.484,
          -0.494,
          -0.484,
          -0.484,
          -0.489,
          -0.494,
          -0.489,
          -0.484,
          -0.484,
          -0.489,
          -0.489,
          -0.484,
          -0.484,
          -0.484,
          -0.489,
          -0.489,
          -0.494,
          -0.484,
          -0.489,
          -0.489,
          -0.484,
          -0.489,
          -0.489,
          -0.489,
          -0.494,
          -0.566,
          -0.566,
          -0.566,
          -0.566,
          -0.566,
          -0.566,
          -0.566,
          -0.566,
          -0.566,
          -0.566,
          -0.566,
          -0.566,
          -0.566,
          -0.566,
          -0.566,
          -0.566,
          -0.268,
          -0.494,
          -0.494,
          -0.494,
          -0.494,
          -0.494,
          -0.494,
          -0.494,
          -0.494,
          -0.494,
          -0.494,
          -0.494,
          -0.494,
          -0.494,
          -0.494,
          -0.494,
          -0.379
         ]
        },
        {
         "error_z": {
          "array": [
           0,
           0,
           0,
           0,
           0,
           0,
           0,
           0
          ],
          "color": "darkgray",
          "thickness": 5,
          "type": "data",
          "width": 10
         },
         "hoverinfo": "text",
         "hoverlabel": {
          "font": {
           "size": 14
          }
         },
         "hovertext": [
          "TiNi<sub>3</sub> (no ID) <br> -0.425 eV/atom",
          "Ti (no ID) <br> 0.0 eV/atom",
          "HfNi<sub>3</sub> (no ID) <br> -0.566 eV/atom",
          "Ni (no ID) <br> 0.0 eV/atom",
          "HfNi (no ID) <br> -0.494 eV/atom",
          "TiNi<sub>7</sub> (no ID) <br> -0.217 eV/atom",
          "Hf (no ID) <br> 0.0 eV/atom",
          "Hf<sub>2</sub>Ni (no ID) <br> -0.379 eV/atom"
         ],
         "marker": {
          "color": "black",
          "line": {
           "color": "black",
           "width": 3
          },
          "opacity": 0.8,
          "size": 12
         },
         "mode": "markers",
         "name": "Stable",
         "showlegend": true,
         "type": "scatter3d",
         "x": [
          0.649519052838329,
          0,
          0.649519052838329,
          0.8660254037844386,
          0.4330127018922193,
          0.7577722283113838,
          0,
          0.28867513459481287
         ],
         "y": [
          0.625,
          1,
          0.375,
          0.5,
          0.25,
          0.5625,
          0,
          0.16666666666666666
         ],
         "z": [
          -0.425,
          0,
          -0.566,
          0,
          -0.494,
          -0.217,
          0,
          -0.379
         ]
        }
       ],
       "layout": {
        "autosize": true,
        "height": 700,
        "hovermode": "closest",
        "legend": {
         "orientation": "h",
         "traceorder": "reversed",
         "x": 0.5,
         "xanchor": "center",
         "y": 0,
         "yanchor": "top"
        },
        "margin": {
         "b": 10,
         "l": 0,
         "pad": 0,
         "r": 0,
         "t": 0
        },
        "paper_bgcolor": "rgba(0,0,0,0)",
        "plot_bgcolor": "rgba(0,0,0,0)",
        "scene": {
         "annotations": [
          {
           "align": "center",
           "font": {
            "color": "#000000",
            "size": 24
           },
           "opacity": 1,
           "showarrow": false,
           "text": "Ti",
           "x": 0,
           "xanchor": "right",
           "xshift": -10,
           "y": 1,
           "yanchor": "auto",
           "yshift": -10,
           "z": -0.5097148072457361
          },
          {
           "align": "center",
           "font": {
            "color": "#000000",
            "size": 24
           },
           "opacity": 1,
           "showarrow": false,
           "text": "Ni",
           "x": 0.8660254037844386,
           "xanchor": "right",
           "xshift": -10,
           "y": 0.5,
           "yanchor": "auto",
           "yshift": -10,
           "z": -0.5097148072457361
          },
          {
           "align": "center",
           "font": {
            "color": "#000000",
            "size": 24
           },
           "opacity": 1,
           "showarrow": false,
           "text": "Hf",
           "x": 0,
           "xanchor": "right",
           "xshift": -10,
           "y": 0,
           "yanchor": "auto",
           "yshift": -10,
           "z": -0.5097148072457361
          },
          {
           "opacity": 0,
           "text": "",
           "x": 1,
           "y": 1,
           "z": 0
          }
         ],
         "aspectratio": {
          "x": 1.7,
          "y": 1.7,
          "z": 1.2
         },
         "camera": {
          "center": {
           "x": -0.1,
           "y": 0,
           "z": -0.15
          },
          "eye": {
           "x": -0.1,
           "y": 0,
           "z": 2.5
          },
          "projection": {
           "type": "orthographic"
          }
         },
         "xaxis": {
          "autorange": true,
          "showaxeslabels": false,
          "showgrid": false,
          "showline": false,
          "showspikes": false,
          "showticklabels": false,
          "ticks": "",
          "visible": false,
          "zeroline": false
         },
         "yaxis": {
          "autorange": true,
          "showaxeslabels": false,
          "showgrid": false,
          "showline": false,
          "showspikes": false,
          "showticklabels": false,
          "ticks": "",
          "visible": false,
          "zeroline": false
         },
         "zaxis": {
          "autorange": true,
          "showaxeslabels": false,
          "showgrid": false,
          "showline": false,
          "showspikes": false,
          "showticklabels": false,
          "ticks": "",
          "visible": false,
          "zeroline": false
         }
        },
        "showlegend": true,
        "template": {
         "data": {
          "bar": [
           {
            "error_x": {
             "color": "#2a3f5f"
            },
            "error_y": {
             "color": "#2a3f5f"
            },
            "marker": {
             "line": {
              "color": "#E5ECF6",
              "width": 0.5
             },
             "pattern": {
              "fillmode": "overlay",
              "size": 10,
              "solidity": 0.2
             }
            },
            "type": "bar"
           }
          ],
          "barpolar": [
           {
            "marker": {
             "line": {
              "color": "#E5ECF6",
              "width": 0.5
             },
             "pattern": {
              "fillmode": "overlay",
              "size": 10,
              "solidity": 0.2
             }
            },
            "type": "barpolar"
           }
          ],
          "carpet": [
           {
            "aaxis": {
             "endlinecolor": "#2a3f5f",
             "gridcolor": "white",
             "linecolor": "white",
             "minorgridcolor": "white",
             "startlinecolor": "#2a3f5f"
            },
            "baxis": {
             "endlinecolor": "#2a3f5f",
             "gridcolor": "white",
             "linecolor": "white",
             "minorgridcolor": "white",
             "startlinecolor": "#2a3f5f"
            },
            "type": "carpet"
           }
          ],
          "choropleth": [
           {
            "colorbar": {
             "outlinewidth": 0,
             "ticks": ""
            },
            "type": "choropleth"
           }
          ],
          "contour": [
           {
            "colorbar": {
             "outlinewidth": 0,
             "ticks": ""
            },
            "colorscale": [
             [
              0,
              "#0d0887"
             ],
             [
              0.1111111111111111,
              "#46039f"
             ],
             [
              0.2222222222222222,
              "#7201a8"
             ],
             [
              0.3333333333333333,
              "#9c179e"
             ],
             [
              0.4444444444444444,
              "#bd3786"
             ],
             [
              0.5555555555555556,
              "#d8576b"
             ],
             [
              0.6666666666666666,
              "#ed7953"
             ],
             [
              0.7777777777777778,
              "#fb9f3a"
             ],
             [
              0.8888888888888888,
              "#fdca26"
             ],
             [
              1,
              "#f0f921"
             ]
            ],
            "type": "contour"
           }
          ],
          "contourcarpet": [
           {
            "colorbar": {
             "outlinewidth": 0,
             "ticks": ""
            },
            "type": "contourcarpet"
           }
          ],
          "heatmap": [
           {
            "colorbar": {
             "outlinewidth": 0,
             "ticks": ""
            },
            "colorscale": [
             [
              0,
              "#0d0887"
             ],
             [
              0.1111111111111111,
              "#46039f"
             ],
             [
              0.2222222222222222,
              "#7201a8"
             ],
             [
              0.3333333333333333,
              "#9c179e"
             ],
             [
              0.4444444444444444,
              "#bd3786"
             ],
             [
              0.5555555555555556,
              "#d8576b"
             ],
             [
              0.6666666666666666,
              "#ed7953"
             ],
             [
              0.7777777777777778,
              "#fb9f3a"
             ],
             [
              0.8888888888888888,
              "#fdca26"
             ],
             [
              1,
              "#f0f921"
             ]
            ],
            "type": "heatmap"
           }
          ],
          "heatmapgl": [
           {
            "colorbar": {
             "outlinewidth": 0,
             "ticks": ""
            },
            "colorscale": [
             [
              0,
              "#0d0887"
             ],
             [
              0.1111111111111111,
              "#46039f"
             ],
             [
              0.2222222222222222,
              "#7201a8"
             ],
             [
              0.3333333333333333,
              "#9c179e"
             ],
             [
              0.4444444444444444,
              "#bd3786"
             ],
             [
              0.5555555555555556,
              "#d8576b"
             ],
             [
              0.6666666666666666,
              "#ed7953"
             ],
             [
              0.7777777777777778,
              "#fb9f3a"
             ],
             [
              0.8888888888888888,
              "#fdca26"
             ],
             [
              1,
              "#f0f921"
             ]
            ],
            "type": "heatmapgl"
           }
          ],
          "histogram": [
           {
            "marker": {
             "pattern": {
              "fillmode": "overlay",
              "size": 10,
              "solidity": 0.2
             }
            },
            "type": "histogram"
           }
          ],
          "histogram2d": [
           {
            "colorbar": {
             "outlinewidth": 0,
             "ticks": ""
            },
            "colorscale": [
             [
              0,
              "#0d0887"
             ],
             [
              0.1111111111111111,
              "#46039f"
             ],
             [
              0.2222222222222222,
              "#7201a8"
             ],
             [
              0.3333333333333333,
              "#9c179e"
             ],
             [
              0.4444444444444444,
              "#bd3786"
             ],
             [
              0.5555555555555556,
              "#d8576b"
             ],
             [
              0.6666666666666666,
              "#ed7953"
             ],
             [
              0.7777777777777778,
              "#fb9f3a"
             ],
             [
              0.8888888888888888,
              "#fdca26"
             ],
             [
              1,
              "#f0f921"
             ]
            ],
            "type": "histogram2d"
           }
          ],
          "histogram2dcontour": [
           {
            "colorbar": {
             "outlinewidth": 0,
             "ticks": ""
            },
            "colorscale": [
             [
              0,
              "#0d0887"
             ],
             [
              0.1111111111111111,
              "#46039f"
             ],
             [
              0.2222222222222222,
              "#7201a8"
             ],
             [
              0.3333333333333333,
              "#9c179e"
             ],
             [
              0.4444444444444444,
              "#bd3786"
             ],
             [
              0.5555555555555556,
              "#d8576b"
             ],
             [
              0.6666666666666666,
              "#ed7953"
             ],
             [
              0.7777777777777778,
              "#fb9f3a"
             ],
             [
              0.8888888888888888,
              "#fdca26"
             ],
             [
              1,
              "#f0f921"
             ]
            ],
            "type": "histogram2dcontour"
           }
          ],
          "mesh3d": [
           {
            "colorbar": {
             "outlinewidth": 0,
             "ticks": ""
            },
            "type": "mesh3d"
           }
          ],
          "parcoords": [
           {
            "line": {
             "colorbar": {
              "outlinewidth": 0,
              "ticks": ""
             }
            },
            "type": "parcoords"
           }
          ],
          "pie": [
           {
            "automargin": true,
            "type": "pie"
           }
          ],
          "scatter": [
           {
            "marker": {
             "colorbar": {
              "outlinewidth": 0,
              "ticks": ""
             }
            },
            "type": "scatter"
           }
          ],
          "scatter3d": [
           {
            "line": {
             "colorbar": {
              "outlinewidth": 0,
              "ticks": ""
             }
            },
            "marker": {
             "colorbar": {
              "outlinewidth": 0,
              "ticks": ""
             }
            },
            "type": "scatter3d"
           }
          ],
          "scattercarpet": [
           {
            "marker": {
             "colorbar": {
              "outlinewidth": 0,
              "ticks": ""
             }
            },
            "type": "scattercarpet"
           }
          ],
          "scattergeo": [
           {
            "marker": {
             "colorbar": {
              "outlinewidth": 0,
              "ticks": ""
             }
            },
            "type": "scattergeo"
           }
          ],
          "scattergl": [
           {
            "marker": {
             "colorbar": {
              "outlinewidth": 0,
              "ticks": ""
             }
            },
            "type": "scattergl"
           }
          ],
          "scattermapbox": [
           {
            "marker": {
             "colorbar": {
              "outlinewidth": 0,
              "ticks": ""
             }
            },
            "type": "scattermapbox"
           }
          ],
          "scatterpolar": [
           {
            "marker": {
             "colorbar": {
              "outlinewidth": 0,
              "ticks": ""
             }
            },
            "type": "scatterpolar"
           }
          ],
          "scatterpolargl": [
           {
            "marker": {
             "colorbar": {
              "outlinewidth": 0,
              "ticks": ""
             }
            },
            "type": "scatterpolargl"
           }
          ],
          "scatterternary": [
           {
            "marker": {
             "colorbar": {
              "outlinewidth": 0,
              "ticks": ""
             }
            },
            "type": "scatterternary"
           }
          ],
          "surface": [
           {
            "colorbar": {
             "outlinewidth": 0,
             "ticks": ""
            },
            "colorscale": [
             [
              0,
              "#0d0887"
             ],
             [
              0.1111111111111111,
              "#46039f"
             ],
             [
              0.2222222222222222,
              "#7201a8"
             ],
             [
              0.3333333333333333,
              "#9c179e"
             ],
             [
              0.4444444444444444,
              "#bd3786"
             ],
             [
              0.5555555555555556,
              "#d8576b"
             ],
             [
              0.6666666666666666,
              "#ed7953"
             ],
             [
              0.7777777777777778,
              "#fb9f3a"
             ],
             [
              0.8888888888888888,
              "#fdca26"
             ],
             [
              1,
              "#f0f921"
             ]
            ],
            "type": "surface"
           }
          ],
          "table": [
           {
            "cells": {
             "fill": {
              "color": "#EBF0F8"
             },
             "line": {
              "color": "white"
             }
            },
            "header": {
             "fill": {
              "color": "#C8D4E3"
             },
             "line": {
              "color": "white"
             }
            },
            "type": "table"
           }
          ]
         },
         "layout": {
          "annotationdefaults": {
           "arrowcolor": "#2a3f5f",
           "arrowhead": 0,
           "arrowwidth": 1
          },
          "autotypenumbers": "strict",
          "coloraxis": {
           "colorbar": {
            "outlinewidth": 0,
            "ticks": ""
           }
          },
          "colorscale": {
           "diverging": [
            [
             0,
             "#8e0152"
            ],
            [
             0.1,
             "#c51b7d"
            ],
            [
             0.2,
             "#de77ae"
            ],
            [
             0.3,
             "#f1b6da"
            ],
            [
             0.4,
             "#fde0ef"
            ],
            [
             0.5,
             "#f7f7f7"
            ],
            [
             0.6,
             "#e6f5d0"
            ],
            [
             0.7,
             "#b8e186"
            ],
            [
             0.8,
             "#7fbc41"
            ],
            [
             0.9,
             "#4d9221"
            ],
            [
             1,
             "#276419"
            ]
           ],
           "sequential": [
            [
             0,
             "#0d0887"
            ],
            [
             0.1111111111111111,
             "#46039f"
            ],
            [
             0.2222222222222222,
             "#7201a8"
            ],
            [
             0.3333333333333333,
             "#9c179e"
            ],
            [
             0.4444444444444444,
             "#bd3786"
            ],
            [
             0.5555555555555556,
             "#d8576b"
            ],
            [
             0.6666666666666666,
             "#ed7953"
            ],
            [
             0.7777777777777778,
             "#fb9f3a"
            ],
            [
             0.8888888888888888,
             "#fdca26"
            ],
            [
             1,
             "#f0f921"
            ]
           ],
           "sequentialminus": [
            [
             0,
             "#0d0887"
            ],
            [
             0.1111111111111111,
             "#46039f"
            ],
            [
             0.2222222222222222,
             "#7201a8"
            ],
            [
             0.3333333333333333,
             "#9c179e"
            ],
            [
             0.4444444444444444,
             "#bd3786"
            ],
            [
             0.5555555555555556,
             "#d8576b"
            ],
            [
             0.6666666666666666,
             "#ed7953"
            ],
            [
             0.7777777777777778,
             "#fb9f3a"
            ],
            [
             0.8888888888888888,
             "#fdca26"
            ],
            [
             1,
             "#f0f921"
            ]
           ]
          },
          "colorway": [
           "#636efa",
           "#EF553B",
           "#00cc96",
           "#ab63fa",
           "#FFA15A",
           "#19d3f3",
           "#FF6692",
           "#B6E880",
           "#FF97FF",
           "#FECB52"
          ],
          "font": {
           "color": "#2a3f5f"
          },
          "geo": {
           "bgcolor": "white",
           "lakecolor": "white",
           "landcolor": "#E5ECF6",
           "showlakes": true,
           "showland": true,
           "subunitcolor": "white"
          },
          "hoverlabel": {
           "align": "left"
          },
          "hovermode": "closest",
          "mapbox": {
           "style": "light"
          },
          "paper_bgcolor": "white",
          "plot_bgcolor": "#E5ECF6",
          "polar": {
           "angularaxis": {
            "gridcolor": "white",
            "linecolor": "white",
            "ticks": ""
           },
           "bgcolor": "#E5ECF6",
           "radialaxis": {
            "gridcolor": "white",
            "linecolor": "white",
            "ticks": ""
           }
          },
          "scene": {
           "xaxis": {
            "backgroundcolor": "#E5ECF6",
            "gridcolor": "white",
            "gridwidth": 2,
            "linecolor": "white",
            "showbackground": true,
            "ticks": "",
            "zerolinecolor": "white"
           },
           "yaxis": {
            "backgroundcolor": "#E5ECF6",
            "gridcolor": "white",
            "gridwidth": 2,
            "linecolor": "white",
            "showbackground": true,
            "ticks": "",
            "zerolinecolor": "white"
           },
           "zaxis": {
            "backgroundcolor": "#E5ECF6",
            "gridcolor": "white",
            "gridwidth": 2,
            "linecolor": "white",
            "showbackground": true,
            "ticks": "",
            "zerolinecolor": "white"
           }
          },
          "shapedefaults": {
           "line": {
            "color": "#2a3f5f"
           }
          },
          "ternary": {
           "aaxis": {
            "gridcolor": "white",
            "linecolor": "white",
            "ticks": ""
           },
           "baxis": {
            "gridcolor": "white",
            "linecolor": "white",
            "ticks": ""
           },
           "bgcolor": "#E5ECF6",
           "caxis": {
            "gridcolor": "white",
            "linecolor": "white",
            "ticks": ""
           }
          },
          "title": {
           "x": 0.05
          },
          "xaxis": {
           "automargin": true,
           "gridcolor": "white",
           "linecolor": "white",
           "ticks": "",
           "title": {
            "standoff": 15
           },
           "zerolinecolor": "white",
           "zerolinewidth": 2
          },
          "yaxis": {
           "automargin": true,
           "gridcolor": "white",
           "linecolor": "white",
           "ticks": "",
           "title": {
            "standoff": 15
           },
           "zerolinecolor": "white",
           "zerolinewidth": 2
          }
         }
        }
       }
      }
     },
     "metadata": {},
     "output_type": "display_data"
    }
   ],
   "source": [
    "\n",
    "pd_plot.get_plot()"
   ]
  },
  {
   "cell_type": "code",
   "execution_count": 24,
   "metadata": {},
   "outputs": [
    {
     "data": {
      "text/plain": [
       "50587"
      ]
     },
     "execution_count": 24,
     "metadata": {},
     "output_type": "execute_result"
    }
   ],
   "source": [
    "len(pd_plot.pd_plot_data[2])"
   ]
  },
  {
   "cell_type": "markdown",
   "metadata": {},
   "source": [
    "from pymatgen.core import Composition\n",
    "comp = Composition(\"Ni3Ti\")\n",
    "pd_plot.plot_element_profile(Element(\"Hf\"),comp)"
   ]
  },
  {
   "cell_type": "markdown",
   "metadata": {},
   "source": [
    "pd_plot.get_chempot_range_map_plot([Element['Hf'],Element['Ti']])\n",
    "pd_plot.get_chempot_range_map_plot([Element['Hf'],Element['Ni']])\n",
    "pd_plot.get_chempot_range_map_plot([Element['Ni'],Element['Ti']])"
   ]
  },
  {
   "cell_type": "markdown",
   "metadata": {},
   "source": [
    "pd_plot.get_contour_pd_plot()"
   ]
  },
  {
   "cell_type": "code",
   "execution_count": 25,
   "metadata": {},
   "outputs": [
    {
     "data": {
      "text/plain": [
       "0"
      ]
     },
     "execution_count": 25,
     "metadata": {},
     "output_type": "execute_result"
    }
   ],
   "source": [
    "pd.get_e_above_hull(pd.all_entries[1])"
   ]
  },
  {
   "cell_type": "code",
   "execution_count": 26,
   "metadata": {},
   "outputs": [
    {
     "name": "stdout",
     "output_type": "stream",
     "text": [
      "PDEntry : Ni2 with energy = -10.9063\n"
     ]
    }
   ],
   "source": [
    "print(pd.all_entries[1])"
   ]
  },
  {
   "cell_type": "markdown",
   "metadata": {},
   "source": [
    "pd.as_dict(pd.stable_entries)"
   ]
  },
  {
   "cell_type": "markdown",
   "metadata": {},
   "source": [
    "## What if we want to know the structures close to the hull?"
   ]
  },
  {
   "cell_type": "code",
   "execution_count": 27,
   "metadata": {},
   "outputs": [
    {
     "data": {
      "application/vnd.plotly.v1+json": {
       "config": {
        "plotlyServerURL": "https://plot.ly"
       },
       "data": [
        {
         "hoverinfo": "none",
         "line": {
          "color": "rgba(0,0,0,1.0)",
          "width": 7
         },
         "mode": "lines",
         "showlegend": false,
         "type": "scatter3d",
         "x": [
          0.649519052838329,
          0,
          null,
          0.649519052838329,
          0.8660254037844386,
          null,
          0.4330127018922193,
          0,
          null,
          0.7577722283113838,
          0.649519052838329,
          null,
          0.7577722283113838,
          0.8660254037844386,
          null,
          0.649519052838329,
          0.7577722283113838,
          null,
          0,
          0,
          null,
          0.28867513459481287,
          0,
          null,
          0.4330127018922193,
          0.28867513459481287,
          null,
          0.649519052838329,
          0.649519052838329,
          null,
          0.649519052838329,
          0,
          null,
          0.4330127018922193,
          0.649519052838329,
          null,
          0.28867513459481287,
          0,
          null
         ],
         "y": [
          0.625,
          1,
          null,
          0.375,
          0.5,
          null,
          0.25,
          1,
          null,
          0.5625,
          0.375,
          null,
          0.5625,
          0.5,
          null,
          0.625,
          0.5625,
          null,
          1,
          0,
          null,
          0.16666666666666666,
          0,
          null,
          0.25,
          0.16666666666666666,
          null,
          0.625,
          0.375,
          null,
          0.375,
          1,
          null,
          0.25,
          0.375,
          null,
          0.16666666666666666,
          1,
          null
         ],
         "z": [
          -0.42451593702501533,
          0,
          null,
          -0.5663497858285957,
          0,
          null,
          -0.49386707597813473,
          0,
          null,
          -0.21745931279146635,
          -0.5663497858285957,
          null,
          -0.21745931279146635,
          0,
          null,
          -0.42451593702501533,
          -0.21745931279146635,
          null,
          0,
          0,
          null,
          -0.3793534282457654,
          0,
          null,
          -0.49386707597813473,
          -0.3793534282457654,
          null,
          -0.42451593702501533,
          -0.5663497858285957,
          null,
          -0.5663497858285957,
          0,
          null,
          -0.49386707597813473,
          -0.5663497858285957,
          null,
          -0.3793534282457654,
          0,
          null
         ]
        },
        {
         "hoverinfo": "none",
         "line": {
          "color": "rgba (0, 0, 0, 0.4)",
          "dash": "solid",
          "width": 1
         },
         "mode": "lines",
         "showlegend": false,
         "type": "scatter3d",
         "x": [
          0.8660254037844386,
          0,
          null,
          0.8660254037844386,
          0,
          null,
          0.8660254037844386,
          0,
          null,
          0.8660254037844386,
          0,
          null,
          0,
          0,
          null,
          0,
          0,
          null,
          0.8660254037844386,
          0.8660254037844386,
          null,
          0,
          0,
          null,
          0,
          0,
          null
         ],
         "y": [
          0.5,
          1,
          null,
          0.5,
          1,
          null,
          0.5,
          0,
          null,
          0.5,
          0,
          null,
          1,
          0,
          null,
          1,
          0,
          null,
          0.5,
          0.5,
          null,
          1,
          1,
          null,
          0,
          0,
          null
         ],
         "z": [
          0,
          0,
          null,
          -0.5663497858285957,
          -0.5663497858285957,
          null,
          0,
          0,
          null,
          -0.5663497858285957,
          -0.5663497858285957,
          null,
          0,
          0,
          null,
          -0.5663497858285957,
          -0.5663497858285957,
          null,
          0,
          -0.5663497858285957,
          null,
          0,
          -0.5663497858285957,
          null,
          0,
          -0.5663497858285957,
          null
         ]
        },
        {
         "colorbar": {
          "len": 0.75,
          "title": {
           "text": "Formation energy<br>(eV/atom)"
          },
          "x": 0.9
         },
         "colorscale": [
          [
           0,
           "#0c8c00"
          ],
          [
           0.5,
           "#d8ffd4"
          ],
          [
           1,
           "#ffffff"
          ]
         ],
         "flatshading": true,
         "hoverinfo": "none",
         "i": [
          117,
          118,
          117,
          2,
          21,
          21
         ],
         "intensity": [
          -0.1621786228768931,
          -0.2834615509805853,
          -0.42451593702501533,
          -0.21613064080576266,
          -0.2324938685510022,
          -0.17509483297252512,
          -0.21745931279146635,
          -0.14531987137818525,
          -0.012240697351131757,
          -0.2117998829016571,
          -0.2785934917203759,
          -0.2667115627538092,
          -0.057473887281391,
          -0.19292990939853638,
          -0.24995462355228515,
          -0.08189936670494243,
          -0.1822965626304338,
          -0.04006333860111777,
          -0.09705284178172491,
          -0.49386707597813473,
          -0.46323708101122996,
          -0.5663497858285957,
          -0.31369482339833327,
          -0.3185242710099712,
          -0.2271604921555743,
          -0.26773299642674964,
          -0.181760597812089,
          -0.16852699867613077,
          -0.3263732587066466,
          -0.30742126099708855,
          -0.3538633361809076,
          -0.3412921673595853,
          -0.4936870789751895,
          -0.31588218933345835,
          -0.018942148376074996,
          -0.14748897609757136,
          -0.24485482026519634,
          -0.2756223602583674,
          -0.3174172526502028,
          -0.3296354576018001,
          -0.07172723980691369,
          -0.17819171381899374,
          -0.23083398534816357,
          -0.24566086121248373,
          -0.09481421152906755,
          -0.15949369196277197,
          -0.050162164686200744,
          -0.3793534282457654,
          -0.46990196464776657,
          -0.42100626283682324,
          -0.37979267599426536,
          -0.1218098753213912,
          -0.27765953889444006,
          -0.3580838214005458,
          -0.35054118739751977,
          -0.38342320537838415,
          -0.39110331358488615,
          -0.013687977019766605,
          -0.250675299732604,
          -0.31121263073817257,
          -0.06505152865394491,
          -0.15965719421914848,
          -0.21984230281589923,
          -0.10581399039465743,
          -0.23448864148756599,
          -0.364874346781086,
          -0.421790274256595,
          -0.44469892513430764,
          -0.4944225567749939,
          -0.09520756558589057,
          -0.27062282321351344,
          -0.3050312981843959,
          -0.39744094248538353,
          -0.3932324874108054,
          -0.4126326333500856,
          -0.12881786667147463,
          -0.21781504572183863,
          -0.27931045405799027,
          -0.327096160602629,
          -0.06479310220940349,
          -0.22027619316698405,
          -0.10066331248127511,
          -0.17011308041121254,
          -0.40526493699549854,
          -0.43358826598568595,
          -0.0610975074387774,
          -0.1950225974523708,
          -0.2833416887294611,
          -0.342516165551367,
          -0.4094652134931252,
          -0.2109398464245626,
          -0.05403558230655866,
          -0.14005502092689426,
          -0.11295050084475733,
          -0.2581903199969539,
          -0.34307249817943664,
          -0.39252125956046136,
          -0.0232700733614826,
          -0.16970996256257287,
          -0.25662038152303523,
          -0.31462365115194757,
          -0.09310367739175421,
          -0.18597485308239498,
          -0.06600041669117047,
          -0.0838378935256746,
          -0.01232877358584794,
          -0.15921369819444287,
          -0.2329813569487115,
          -0.06892531326873552,
          -0.18157258692365177,
          -0.274912005238788,
          -0.017430325581438904,
          -0.12869874620193117,
          -0.05740673344686956,
          -0.024570918333087378,
          -0.038840352714207424,
          0,
          0,
          0
         ],
         "j": [
          47,
          47,
          21,
          21,
          6,
          6
         ],
         "k": [
          19,
          117,
          19,
          117,
          116,
          2
         ],
         "lighting": {
          "ambient": 1,
          "diffuse": 0
         },
         "name": "Convex Hull (shading)",
         "opacity": 0.8,
         "showlegend": true,
         "type": "mesh3d",
         "x": [
          0.4330127018922193,
          0.5773502691896257,
          0.649519052838329,
          0.6928203230275509,
          0.7216878364870322,
          0.7423074889580902,
          0.7577722283113838,
          0.7698003589195009,
          0.28867513459481287,
          0.5196152422706631,
          0.6185895741317419,
          0.6735753140545634,
          0.34641016151377546,
          0.49487165930539345,
          0.5412658773652741,
          0.3711537444790451,
          0.4811252243246881,
          0.3247595264191645,
          0.38490017945975047,
          0.4330127018922193,
          0.5773502691896257,
          0.649519052838329,
          0.6928203230275509,
          0.7216878364870322,
          0.7423074889580902,
          0.7577722283113838,
          0.7698003589195009,
          0.28867513459481287,
          0.4330127018922193,
          0.5196152422706631,
          0.5773502691896257,
          0.6185895741317419,
          0.649519052838329,
          0.6735753140545634,
          0.21650635094610965,
          0.34641016151377546,
          0.4330127018922193,
          0.49487165930539345,
          0.5412658773652741,
          0.5773502691896257,
          0.28867513459481287,
          0.3711537444790451,
          0.4330127018922193,
          0.4811252243246881,
          0.3247595264191645,
          0.38490017945975047,
          0.28867513459481287,
          0.28867513459481287,
          0.5196152422706631,
          0.6185895741317419,
          0.6735753140545634,
          0.21650635094610965,
          0.34641016151377546,
          0.4330127018922193,
          0.49487165930539345,
          0.5412658773652741,
          0.5773502691896257,
          0.17320508075688773,
          0.3711537444790451,
          0.4811252243246881,
          0.24743582965269673,
          0.3247595264191645,
          0.38490017945975047,
          0.28867513459481287,
          0.21650635094610965,
          0.34641016151377546,
          0.49487165930539345,
          0.5412658773652741,
          0.606217782649107,
          0.17320508075688773,
          0.28867513459481287,
          0.3711537444790451,
          0.4330127018922193,
          0.4811252243246881,
          0.5196152422706631,
          0.24743582965269673,
          0.3247595264191645,
          0.38490017945975047,
          0.4330127018922193,
          0.21650635094610965,
          0.34641016151377546,
          0.25980762113533157,
          0.17320508075688773,
          0.3711537444790451,
          0.4811252243246881,
          0.14433756729740643,
          0.24743582965269673,
          0.3247595264191645,
          0.38490017945975047,
          0.4330127018922193,
          0.28867513459481287,
          0.19245008972987523,
          0.25980762113533157,
          0.14433756729740643,
          0.24743582965269673,
          0.3247595264191645,
          0.38490017945975047,
          0.12371791482634836,
          0.21650635094610965,
          0.28867513459481287,
          0.34641016151377546,
          0.19245008972987523,
          0.25980762113533157,
          0.17320508075688773,
          0.12371791482634836,
          0.10825317547305482,
          0.19245008972987523,
          0.25980762113533157,
          0.10825317547305482,
          0.19245008972987523,
          0.25980762113533157,
          0.09622504486493762,
          0.17320508075688773,
          0.09622504486493762,
          0.08660254037844387,
          0.08660254037844387,
          0.8660254037844386,
          0,
          0
         ],
         "y": [
          0.75,
          0.6666666666666666,
          0.625,
          0.6000000000000001,
          0.5833333333333334,
          0.5714285714285714,
          0.5625,
          0.5555555555555556,
          0.8333333333333333,
          0.7,
          0.6428571428571428,
          0.6111111111111112,
          0.8,
          0.7142857142857142,
          0.6875,
          0.7857142857142857,
          0.7222222222222222,
          0.8125,
          0.7777777777777778,
          0.25,
          0.3333333333333333,
          0.375,
          0.4,
          0.4166666666666667,
          0.42857142857142855,
          0.4375,
          0.4444444444444444,
          0.5,
          0.5,
          0.5,
          0.5,
          0.5,
          0.5,
          0.5,
          0.625,
          0.6000000000000001,
          0.5833333333333333,
          0.5714285714285714,
          0.5625,
          0.5555555555555556,
          0.6666666666666666,
          0.6428571428571428,
          0.625,
          0.6111111111111112,
          0.6875,
          0.6666666666666666,
          0.7222222222222222,
          0.16666666666666666,
          0.3,
          0.35714285714285715,
          0.3888888888888889,
          0.375,
          0.4,
          0.41666666666666663,
          0.42857142857142855,
          0.4375,
          0.4444444444444444,
          0.5,
          0.5,
          0.5,
          0.5714285714285714,
          0.5625,
          0.5555555555555556,
          0.611111111111111,
          0.125,
          0.2,
          0.2857142857142857,
          0.3125,
          0.35,
          0.30000000000000004,
          0.3333333333333333,
          0.3571428571428571,
          0.375,
          0.3888888888888889,
          0.4,
          0.42857142857142855,
          0.4375,
          0.4444444444444444,
          0.45,
          0.5,
          0.5,
          0.55,
          0.1,
          0.21428571428571427,
          0.2777777777777778,
          0.25,
          0.2857142857142857,
          0.3125,
          0.3333333333333333,
          0.35,
          0.38888888888888884,
          0.4444444444444444,
          0.44999999999999996,
          0.08333333333333333,
          0.14285714285714285,
          0.1875,
          0.2222222222222222,
          0.21428571428571427,
          0.25,
          0.2777777777777778,
          0.30000000000000004,
          0.3333333333333333,
          0.35,
          0.4,
          0.07142857142857142,
          0.1875,
          0.2222222222222222,
          0.25,
          0.0625,
          0.1111111111111111,
          0.15,
          0.16666666666666666,
          0.2,
          0.05555555555555555,
          0.15000000000000002,
          0.05,
          0.5,
          1,
          0
         ],
         "z": [
          -0.1621786228768931,
          -0.2834615509805853,
          -0.42451593702501533,
          -0.21613064080576266,
          -0.2324938685510022,
          -0.17509483297252512,
          -0.21745931279146635,
          -0.14531987137818525,
          -0.012240697351131757,
          -0.2117998829016571,
          -0.2785934917203759,
          -0.2667115627538092,
          -0.057473887281391,
          -0.19292990939853638,
          -0.24995462355228515,
          -0.08189936670494243,
          -0.1822965626304338,
          -0.04006333860111777,
          -0.09705284178172491,
          -0.49386707597813473,
          -0.46323708101122996,
          -0.5663497858285957,
          -0.31369482339833327,
          -0.3185242710099712,
          -0.2271604921555743,
          -0.26773299642674964,
          -0.181760597812089,
          -0.16852699867613077,
          -0.3263732587066466,
          -0.30742126099708855,
          -0.3538633361809076,
          -0.3412921673595853,
          -0.4936870789751895,
          -0.31588218933345835,
          -0.018942148376074996,
          -0.14748897609757136,
          -0.24485482026519634,
          -0.2756223602583674,
          -0.3174172526502028,
          -0.3296354576018001,
          -0.07172723980691369,
          -0.17819171381899374,
          -0.23083398534816357,
          -0.24566086121248373,
          -0.09481421152906755,
          -0.15949369196277197,
          -0.050162164686200744,
          -0.3793534282457654,
          -0.46990196464776657,
          -0.42100626283682324,
          -0.37979267599426536,
          -0.1218098753213912,
          -0.27765953889444006,
          -0.3580838214005458,
          -0.35054118739751977,
          -0.38342320537838415,
          -0.39110331358488615,
          -0.013687977019766605,
          -0.250675299732604,
          -0.31121263073817257,
          -0.06505152865394491,
          -0.15965719421914848,
          -0.21984230281589923,
          -0.10581399039465743,
          -0.23448864148756599,
          -0.364874346781086,
          -0.421790274256595,
          -0.44469892513430764,
          -0.4944225567749939,
          -0.09520756558589057,
          -0.27062282321351344,
          -0.3050312981843959,
          -0.39744094248538353,
          -0.3932324874108054,
          -0.4126326333500856,
          -0.12881786667147463,
          -0.21781504572183863,
          -0.27931045405799027,
          -0.327096160602629,
          -0.06479310220940349,
          -0.22027619316698405,
          -0.10066331248127511,
          -0.17011308041121254,
          -0.40526493699549854,
          -0.43358826598568595,
          -0.0610975074387774,
          -0.1950225974523708,
          -0.2833416887294611,
          -0.342516165551367,
          -0.4094652134931252,
          -0.2109398464245626,
          -0.05403558230655866,
          -0.14005502092689426,
          -0.11295050084475733,
          -0.2581903199969539,
          -0.34307249817943664,
          -0.39252125956046136,
          -0.0232700733614826,
          -0.16970996256257287,
          -0.25662038152303523,
          -0.31462365115194757,
          -0.09310367739175421,
          -0.18597485308239498,
          -0.06600041669117047,
          -0.0838378935256746,
          -0.01232877358584794,
          -0.15921369819444287,
          -0.2329813569487115,
          -0.06892531326873552,
          -0.18157258692365177,
          -0.274912005238788,
          -0.017430325581438904,
          -0.12869874620193117,
          -0.05740673344686956,
          -0.024570918333087378,
          -0.038840352714207424,
          0,
          0,
          0
         ]
        },
        {
         "hoverinfo": "skip",
         "mode": "text",
         "name": "Labels (stable)",
         "opacity": 1,
         "showlegend": true,
         "text": [
          "TiNi<sub>3</sub>",
          "HfNi<sub>3</sub>",
          "HfNi",
          "TiNi<sub>7</sub>",
          "Hf<sub>2</sub>Ni"
         ],
         "textposition": [
          "middle center",
          "middle center",
          "middle center",
          "middle center",
          "middle center"
         ],
         "type": "scatter3d",
         "visible": true,
         "x": [
          0.639519052838329,
          0.639519052838329,
          0.4230127018922193,
          0.7477722283113838,
          0.2986751345948129
         ],
         "y": [
          0.635,
          0.365,
          0.24,
          0.5725,
          0.15666666666666665
         ],
         "z": [
          -0.36788095844215574,
          -0.5097148072457361,
          -0.43723209739527513,
          -0.16082433420860678,
          -0.3227184496629058
         ]
        },
        {
         "hoverinfo": "text",
         "hoverlabel": {
          "font": {
           "size": 14
          }
         },
         "hovertext": [
          "TiNi<sub>3</sub> (no ID) <br> -0.425 eV/atom (+0.0 eV/atom)",
          "TiNi<sub>3</sub> (no ID) <br> -0.387 eV/atom (+0.038 eV/atom)",
          "TiNi<sub>3</sub> (no ID) <br> -0.425 eV/atom (+0.0 eV/atom)",
          "TiNi<sub>3</sub> (no ID) <br> -0.425 eV/atom (+0.0 eV/atom)",
          "TiNi<sub>3</sub> (no ID) <br> -0.425 eV/atom (+0.0 eV/atom)",
          "TiNi<sub>3</sub> (no ID) <br> -0.387 eV/atom (+0.038 eV/atom)",
          "TiNi<sub>3</sub> (no ID) <br> -0.387 eV/atom (+0.038 eV/atom)",
          "TiNi<sub>3</sub> (no ID) <br> -0.425 eV/atom (+0.0 eV/atom)",
          "TiNi<sub>3</sub> (no ID) <br> -0.425 eV/atom (+0.0 eV/atom)",
          "TiNi<sub>3</sub> (no ID) <br> -0.387 eV/atom (+0.038 eV/atom)",
          "TiNi<sub>3</sub> (no ID) <br> -0.387 eV/atom (+0.038 eV/atom)",
          "TiNi<sub>3</sub> (no ID) <br> -0.425 eV/atom (+0.0 eV/atom)",
          "TiNi<sub>3</sub> (no ID) <br> -0.425 eV/atom (+0.0 eV/atom)",
          "TiNi<sub>3</sub> (no ID) <br> -0.387 eV/atom (+0.038 eV/atom)",
          "TiNi<sub>3</sub> (no ID) <br> -0.425 eV/atom (+0.0 eV/atom)",
          "TiNi<sub>3</sub> (no ID) <br> -0.425 eV/atom (+0.0 eV/atom)",
          "TiNi<sub>3</sub> (no ID) <br> -0.425 eV/atom (+0.0 eV/atom)",
          "TiNi<sub>3</sub> (no ID) <br> -0.425 eV/atom (+0.0 eV/atom)",
          "TiNi<sub>7</sub> (no ID) <br> -0.183 eV/atom (+0.034 eV/atom)",
          "TiNi<sub>7</sub> (no ID) <br> -0.171 eV/atom (+0.046 eV/atom)",
          "TiNi<sub>7</sub> (no ID) <br> -0.186 eV/atom (+0.032 eV/atom)",
          "TiNi<sub>7</sub> (no ID) <br> -0.19 eV/atom (+0.028 eV/atom)",
          "TiNi<sub>7</sub> (no ID) <br> -0.184 eV/atom (+0.033 eV/atom)",
          "TiNi<sub>7</sub> (no ID) <br> -0.171 eV/atom (+0.046 eV/atom)",
          "TiNi<sub>7</sub> (no ID) <br> -0.207 eV/atom (+0.01 eV/atom)",
          "TiNi<sub>7</sub> (no ID) <br> -0.171 eV/atom (+0.046 eV/atom)",
          "TiNi<sub>7</sub> (no ID) <br> -0.171 eV/atom (+0.046 eV/atom)",
          "TiNi<sub>7</sub> (no ID) <br> -0.183 eV/atom (+0.034 eV/atom)",
          "TiNi<sub>7</sub> (no ID) <br> -0.214 eV/atom (+0.004 eV/atom)",
          "TiNi<sub>8</sub> (no ID) <br> -0.145 eV/atom (+0.048 eV/atom)",
          "TiNi<sub>8</sub> (no ID) <br> -0.145 eV/atom (+0.048 eV/atom)",
          "HfNi (no ID) <br> -0.484 eV/atom (+0.01 eV/atom)",
          "HfNi (no ID) <br> -0.489 eV/atom (+0.005 eV/atom)",
          "HfNi (no ID) <br> -0.484 eV/atom (+0.01 eV/atom)",
          "HfNi (no ID) <br> -0.494 eV/atom (+0.0 eV/atom)",
          "HfNi (no ID) <br> -0.484 eV/atom (+0.01 eV/atom)",
          "HfNi (no ID) <br> -0.484 eV/atom (+0.01 eV/atom)",
          "HfNi (no ID) <br> -0.489 eV/atom (+0.005 eV/atom)",
          "HfNi (no ID) <br> -0.494 eV/atom (+0.0 eV/atom)",
          "HfNi (no ID) <br> -0.489 eV/atom (+0.005 eV/atom)",
          "HfNi (no ID) <br> -0.456 eV/atom (+0.038 eV/atom)",
          "HfNi (no ID) <br> -0.484 eV/atom (+0.01 eV/atom)",
          "HfNi (no ID) <br> -0.484 eV/atom (+0.01 eV/atom)",
          "HfNi (no ID) <br> -0.489 eV/atom (+0.005 eV/atom)",
          "HfNi (no ID) <br> -0.489 eV/atom (+0.005 eV/atom)",
          "HfNi (no ID) <br> -0.484 eV/atom (+0.01 eV/atom)",
          "HfNi (no ID) <br> -0.484 eV/atom (+0.01 eV/atom)",
          "HfNi (no ID) <br> -0.484 eV/atom (+0.01 eV/atom)",
          "HfNi (no ID) <br> -0.489 eV/atom (+0.005 eV/atom)",
          "HfNi (no ID) <br> -0.489 eV/atom (+0.005 eV/atom)",
          "HfNi (no ID) <br> -0.494 eV/atom (+0.0 eV/atom)",
          "HfNi (no ID) <br> -0.484 eV/atom (+0.01 eV/atom)",
          "HfNi (no ID) <br> -0.489 eV/atom (+0.005 eV/atom)",
          "HfNi (no ID) <br> -0.489 eV/atom (+0.005 eV/atom)",
          "HfNi (no ID) <br> -0.484 eV/atom (+0.01 eV/atom)",
          "HfNi (no ID) <br> -0.489 eV/atom (+0.005 eV/atom)",
          "HfNi (no ID) <br> -0.489 eV/atom (+0.005 eV/atom)",
          "HfNi (no ID) <br> -0.489 eV/atom (+0.005 eV/atom)",
          "HfNi (no ID) <br> -0.456 eV/atom (+0.038 eV/atom)",
          "HfNi (no ID) <br> -0.494 eV/atom (+0.0 eV/atom)",
          "HfNi<sub>3</sub> (no ID) <br> -0.529 eV/atom (+0.037 eV/atom)",
          "HfNi<sub>3</sub> (no ID) <br> -0.529 eV/atom (+0.037 eV/atom)",
          "HfNi<sub>3</sub> (no ID) <br> -0.566 eV/atom (+0.0 eV/atom)",
          "HfNi<sub>3</sub> (no ID) <br> -0.566 eV/atom (+0.0 eV/atom)",
          "HfNi<sub>3</sub> (no ID) <br> -0.529 eV/atom (+0.037 eV/atom)",
          "HfNi<sub>3</sub> (no ID) <br> -0.529 eV/atom (+0.037 eV/atom)",
          "HfNi<sub>3</sub> (no ID) <br> -0.566 eV/atom (+0.0 eV/atom)",
          "HfNi<sub>3</sub> (no ID) <br> -0.566 eV/atom (+0.0 eV/atom)",
          "HfNi<sub>3</sub> (no ID) <br> -0.566 eV/atom (+0.0 eV/atom)",
          "HfNi<sub>3</sub> (no ID) <br> -0.529 eV/atom (+0.037 eV/atom)",
          "HfNi<sub>3</sub> (no ID) <br> -0.566 eV/atom (+0.0 eV/atom)",
          "HfNi<sub>3</sub> (no ID) <br> -0.566 eV/atom (+0.0 eV/atom)",
          "HfNi<sub>3</sub> (no ID) <br> -0.566 eV/atom (+0.0 eV/atom)",
          "HfNi<sub>3</sub> (no ID) <br> -0.529 eV/atom (+0.037 eV/atom)",
          "HfNi<sub>3</sub> (no ID) <br> -0.529 eV/atom (+0.037 eV/atom)",
          "HfNi<sub>3</sub> (no ID) <br> -0.566 eV/atom (+0.0 eV/atom)",
          "HfNi<sub>3</sub> (no ID) <br> -0.566 eV/atom (+0.0 eV/atom)",
          "HfNi<sub>3</sub> (no ID) <br> -0.566 eV/atom (+0.0 eV/atom)",
          "HfNi<sub>3</sub> (no ID) <br> -0.566 eV/atom (+0.0 eV/atom)",
          "HfNi<sub>3</sub> (no ID) <br> -0.566 eV/atom (+0.0 eV/atom)",
          "HfNi<sub>3</sub> (no ID) <br> -0.566 eV/atom (+0.0 eV/atom)",
          "HfNi<sub>3</sub> (no ID) <br> -0.566 eV/atom (+0.0 eV/atom)",
          "HfNi<sub>3</sub> (no ID) <br> -0.566 eV/atom (+0.0 eV/atom)",
          "HfNi<sub>7</sub> (no ID) <br> -0.249 eV/atom (+0.034 eV/atom)",
          "HfNi<sub>7</sub> (no ID) <br> -0.268 eV/atom (+0.015 eV/atom)",
          "HfNi<sub>7</sub> (no ID) <br> -0.259 eV/atom (+0.024 eV/atom)",
          "HfTiNi<sub>6</sub> (no ID) <br> -0.494 eV/atom (+0.002 eV/atom)",
          "HfTiNi<sub>6</sub> (no ID) <br> -0.454 eV/atom (+0.041 eV/atom)",
          "HfTiNi<sub>6</sub> (no ID) <br> -0.494 eV/atom (+0.002 eV/atom)",
          "HfTiNi<sub>6</sub> (no ID) <br> -0.494 eV/atom (+0.002 eV/atom)",
          "HfTiNi<sub>6</sub> (no ID) <br> -0.494 eV/atom (+0.002 eV/atom)",
          "HfTiNi<sub>6</sub> (no ID) <br> -0.494 eV/atom (+0.002 eV/atom)",
          "HfTiNi<sub>6</sub> (no ID) <br> -0.494 eV/atom (+0.002 eV/atom)",
          "HfTiNi<sub>6</sub> (no ID) <br> -0.459 eV/atom (+0.036 eV/atom)",
          "HfTiNi<sub>6</sub> (no ID) <br> -0.494 eV/atom (+0.002 eV/atom)",
          "HfTiNi<sub>6</sub> (no ID) <br> -0.494 eV/atom (+0.002 eV/atom)",
          "HfTiNi<sub>6</sub> (no ID) <br> -0.458 eV/atom (+0.037 eV/atom)",
          "HfTiNi<sub>6</sub> (no ID) <br> -0.459 eV/atom (+0.036 eV/atom)",
          "HfTiNi<sub>6</sub> (no ID) <br> -0.458 eV/atom (+0.037 eV/atom)",
          "HfTiNi<sub>6</sub> (no ID) <br> -0.458 eV/atom (+0.037 eV/atom)",
          "HfTiNi<sub>6</sub> (no ID) <br> -0.454 eV/atom (+0.041 eV/atom)",
          "HfTiNi<sub>6</sub> (no ID) <br> -0.459 eV/atom (+0.036 eV/atom)",
          "HfTiNi<sub>6</sub> (no ID) <br> -0.494 eV/atom (+0.002 eV/atom)",
          "HfTiNi<sub>6</sub> (no ID) <br> -0.454 eV/atom (+0.041 eV/atom)",
          "HfTiNi<sub>6</sub> (no ID) <br> -0.494 eV/atom (+0.002 eV/atom)",
          "HfTiNi<sub>6</sub> (no ID) <br> -0.494 eV/atom (+0.002 eV/atom)",
          "HfTiNi<sub>6</sub> (no ID) <br> -0.454 eV/atom (+0.041 eV/atom)",
          "HfTiNi<sub>6</sub> (no ID) <br> -0.454 eV/atom (+0.041 eV/atom)",
          "HfTiNi<sub>6</sub> (no ID) <br> -0.459 eV/atom (+0.036 eV/atom)",
          "HfTiNi<sub>6</sub> (no ID) <br> -0.494 eV/atom (+0.002 eV/atom)",
          "HfTiNi<sub>6</sub> (no ID) <br> -0.458 eV/atom (+0.037 eV/atom)",
          "HfTiNi<sub>6</sub> (no ID) <br> -0.458 eV/atom (+0.037 eV/atom)",
          "HfTiNi<sub>6</sub> (no ID) <br> -0.459 eV/atom (+0.036 eV/atom)",
          "HfTiNi<sub>6</sub> (no ID) <br> -0.458 eV/atom (+0.037 eV/atom)",
          "HfTiNi<sub>6</sub> (no ID) <br> -0.458 eV/atom (+0.037 eV/atom)",
          "HfTiNi<sub>6</sub> (no ID) <br> -0.494 eV/atom (+0.002 eV/atom)",
          "HfTiNi<sub>6</sub> (no ID) <br> -0.494 eV/atom (+0.002 eV/atom)",
          "HfTiNi<sub>6</sub> (no ID) <br> -0.458 eV/atom (+0.037 eV/atom)",
          "HfTiNi<sub>6</sub> (no ID) <br> -0.494 eV/atom (+0.002 eV/atom)",
          "HfTiNi<sub>6</sub> (no ID) <br> -0.454 eV/atom (+0.041 eV/atom)",
          "Hf<sub>2</sub>Ni (no ID) <br> -0.379 eV/atom (+0.0 eV/atom)",
          "Hf<sub>3</sub>Ni (no ID) <br> -0.234 eV/atom (+0.05 eV/atom)",
          "Hf<sub>4</sub>Ni<sub>3</sub> (no ID) <br> -0.405 eV/atom (+0.04 eV/atom)",
          "Hf<sub>4</sub>TiNi<sub>5</sub> (no ID) <br> -0.409 eV/atom (+0.05 eV/atom)",
          "Hf<sub>4</sub>TiNi<sub>5</sub> (no ID) <br> -0.409 eV/atom (+0.05 eV/atom)",
          "Hf<sub>4</sub>TiNi<sub>5</sub> (no ID) <br> -0.409 eV/atom (+0.05 eV/atom)"
         ],
         "marker": {
          "color": [
           0,
           0.038,
           0,
           0,
           0,
           0.038,
           0.038,
           0,
           0,
           0.038,
           0.038,
           0,
           0,
           0.038,
           0,
           0,
           0,
           0,
           0.034,
           0.046,
           0.032,
           0.028,
           0.033,
           0.046,
           0.01,
           0.046,
           0.046,
           0.034,
           0.004,
           0.048,
           0.048,
           0.01,
           0.005,
           0.01,
           0,
           0.01,
           0.01,
           0.005,
           0,
           0.005,
           0.038,
           0.01,
           0.01,
           0.005,
           0.005,
           0.01,
           0.01,
           0.01,
           0.005,
           0.005,
           0,
           0.01,
           0.005,
           0.005,
           0.01,
           0.005,
           0.005,
           0.005,
           0.038,
           0,
           0.037,
           0.037,
           0,
           0,
           0.037,
           0.037,
           0,
           0,
           0,
           0.037,
           0,
           0,
           0,
           0.037,
           0.037,
           0,
           0,
           0,
           0,
           0,
           0,
           0,
           0,
           0.034,
           0.015,
           0.024,
           0.002,
           0.041,
           0.002,
           0.002,
           0.002,
           0.002,
           0.002,
           0.036,
           0.002,
           0.002,
           0.037,
           0.036,
           0.037,
           0.037,
           0.041,
           0.036,
           0.002,
           0.041,
           0.002,
           0.002,
           0.041,
           0.041,
           0.036,
           0.002,
           0.037,
           0.037,
           0.036,
           0.037,
           0.037,
           0.002,
           0.002,
           0.037,
           0.002,
           0.041,
           0,
           0.05,
           0.04,
           0.05,
           0.05,
           0.05
          ],
          "colorbar": {
           "len": 0.75,
           "title": {
            "text": "Energy Above Hull<br>(eV/atom)"
           },
           "x": 0.05
          },
          "colorscale": [
           [
            0,
            "#fad393"
           ],
           [
            0.5,
            "#ff813d"
           ],
           [
            1,
            "#ff0000"
           ]
          ],
          "size": 6,
          "symbol": "diamond"
         },
         "mode": "markers",
         "name": "Above Hull",
         "showlegend": true,
         "type": "scatter3d",
         "x": [
          0.649519052838329,
          0.649519052838329,
          0.649519052838329,
          0.649519052838329,
          0.649519052838329,
          0.649519052838329,
          0.649519052838329,
          0.649519052838329,
          0.649519052838329,
          0.649519052838329,
          0.649519052838329,
          0.649519052838329,
          0.649519052838329,
          0.649519052838329,
          0.649519052838329,
          0.649519052838329,
          0.649519052838329,
          0.649519052838329,
          0.7577722283113838,
          0.7577722283113838,
          0.7577722283113838,
          0.7577722283113838,
          0.7577722283113838,
          0.7577722283113838,
          0.7577722283113838,
          0.7577722283113838,
          0.7577722283113838,
          0.7577722283113838,
          0.7577722283113838,
          0.7698003589195009,
          0.7698003589195009,
          0.4330127018922193,
          0.4330127018922193,
          0.4330127018922193,
          0.4330127018922193,
          0.4330127018922193,
          0.4330127018922193,
          0.4330127018922193,
          0.4330127018922193,
          0.4330127018922193,
          0.4330127018922193,
          0.4330127018922193,
          0.4330127018922193,
          0.4330127018922193,
          0.4330127018922193,
          0.4330127018922193,
          0.4330127018922193,
          0.4330127018922193,
          0.4330127018922193,
          0.4330127018922193,
          0.4330127018922193,
          0.4330127018922193,
          0.4330127018922193,
          0.4330127018922193,
          0.4330127018922193,
          0.4330127018922193,
          0.4330127018922193,
          0.4330127018922193,
          0.4330127018922193,
          0.4330127018922193,
          0.649519052838329,
          0.649519052838329,
          0.649519052838329,
          0.649519052838329,
          0.649519052838329,
          0.649519052838329,
          0.649519052838329,
          0.649519052838329,
          0.649519052838329,
          0.649519052838329,
          0.649519052838329,
          0.649519052838329,
          0.649519052838329,
          0.649519052838329,
          0.649519052838329,
          0.649519052838329,
          0.649519052838329,
          0.649519052838329,
          0.649519052838329,
          0.649519052838329,
          0.649519052838329,
          0.649519052838329,
          0.649519052838329,
          0.7577722283113838,
          0.7577722283113838,
          0.7577722283113838,
          0.649519052838329,
          0.649519052838329,
          0.649519052838329,
          0.649519052838329,
          0.649519052838329,
          0.649519052838329,
          0.649519052838329,
          0.649519052838329,
          0.649519052838329,
          0.649519052838329,
          0.649519052838329,
          0.649519052838329,
          0.649519052838329,
          0.649519052838329,
          0.649519052838329,
          0.649519052838329,
          0.649519052838329,
          0.649519052838329,
          0.649519052838329,
          0.649519052838329,
          0.649519052838329,
          0.649519052838329,
          0.649519052838329,
          0.649519052838329,
          0.649519052838329,
          0.649519052838329,
          0.649519052838329,
          0.649519052838329,
          0.649519052838329,
          0.649519052838329,
          0.649519052838329,
          0.649519052838329,
          0.649519052838329,
          0.649519052838329,
          0.28867513459481287,
          0.21650635094610965,
          0.3711537444790451,
          0.4330127018922193,
          0.4330127018922193,
          0.4330127018922193
         ],
         "y": [
          0.625,
          0.625,
          0.625,
          0.625,
          0.625,
          0.625,
          0.625,
          0.625,
          0.625,
          0.625,
          0.625,
          0.625,
          0.625,
          0.625,
          0.625,
          0.625,
          0.625,
          0.625,
          0.5625,
          0.5625,
          0.5625,
          0.5625,
          0.5625,
          0.5625,
          0.5625,
          0.5625,
          0.5625,
          0.5625,
          0.5625,
          0.5555555555555556,
          0.5555555555555556,
          0.25,
          0.25,
          0.25,
          0.25,
          0.25,
          0.25,
          0.25,
          0.25,
          0.25,
          0.25,
          0.25,
          0.25,
          0.25,
          0.25,
          0.25,
          0.25,
          0.25,
          0.25,
          0.25,
          0.25,
          0.25,
          0.25,
          0.25,
          0.25,
          0.25,
          0.25,
          0.25,
          0.25,
          0.25,
          0.375,
          0.375,
          0.375,
          0.375,
          0.375,
          0.375,
          0.375,
          0.375,
          0.375,
          0.375,
          0.375,
          0.375,
          0.375,
          0.375,
          0.375,
          0.375,
          0.375,
          0.375,
          0.375,
          0.375,
          0.375,
          0.375,
          0.375,
          0.4375,
          0.4375,
          0.4375,
          0.5,
          0.5,
          0.5,
          0.5,
          0.5,
          0.5,
          0.5,
          0.5,
          0.5,
          0.5,
          0.5,
          0.5,
          0.5,
          0.5,
          0.5,
          0.5,
          0.5,
          0.5,
          0.5,
          0.5,
          0.5,
          0.5,
          0.5,
          0.5,
          0.5,
          0.5,
          0.5,
          0.5,
          0.5,
          0.5,
          0.5,
          0.5,
          0.5,
          0.5,
          0.16666666666666666,
          0.125,
          0.21428571428571427,
          0.35,
          0.35,
          0.35
         ],
         "z": [
          -0.425,
          -0.387,
          -0.425,
          -0.425,
          -0.425,
          -0.387,
          -0.387,
          -0.425,
          -0.425,
          -0.387,
          -0.387,
          -0.425,
          -0.425,
          -0.387,
          -0.425,
          -0.425,
          -0.425,
          -0.425,
          -0.183,
          -0.171,
          -0.186,
          -0.19,
          -0.184,
          -0.171,
          -0.207,
          -0.171,
          -0.171,
          -0.183,
          -0.214,
          -0.145,
          -0.145,
          -0.484,
          -0.489,
          -0.484,
          -0.494,
          -0.484,
          -0.484,
          -0.489,
          -0.494,
          -0.489,
          -0.456,
          -0.484,
          -0.484,
          -0.489,
          -0.489,
          -0.484,
          -0.484,
          -0.484,
          -0.489,
          -0.489,
          -0.494,
          -0.484,
          -0.489,
          -0.489,
          -0.484,
          -0.489,
          -0.489,
          -0.489,
          -0.456,
          -0.494,
          -0.529,
          -0.529,
          -0.566,
          -0.566,
          -0.529,
          -0.529,
          -0.566,
          -0.566,
          -0.566,
          -0.529,
          -0.566,
          -0.566,
          -0.566,
          -0.529,
          -0.529,
          -0.566,
          -0.566,
          -0.566,
          -0.566,
          -0.566,
          -0.566,
          -0.566,
          -0.566,
          -0.249,
          -0.268,
          -0.259,
          -0.494,
          -0.454,
          -0.494,
          -0.494,
          -0.494,
          -0.494,
          -0.494,
          -0.459,
          -0.494,
          -0.494,
          -0.458,
          -0.459,
          -0.458,
          -0.458,
          -0.454,
          -0.459,
          -0.494,
          -0.454,
          -0.494,
          -0.494,
          -0.454,
          -0.454,
          -0.459,
          -0.494,
          -0.458,
          -0.458,
          -0.459,
          -0.458,
          -0.458,
          -0.494,
          -0.494,
          -0.458,
          -0.494,
          -0.454,
          -0.379,
          -0.234,
          -0.405,
          -0.409,
          -0.409,
          -0.409
         ]
        },
        {
         "error_z": {
          "array": [
           0,
           0,
           0,
           0,
           0,
           0,
           0,
           0
          ],
          "color": "darkgray",
          "thickness": 5,
          "type": "data",
          "width": 10
         },
         "hoverinfo": "text",
         "hoverlabel": {
          "font": {
           "size": 14
          }
         },
         "hovertext": [
          "TiNi<sub>3</sub> (no ID) <br> -0.425 eV/atom",
          "Ti (no ID) <br> 0.0 eV/atom",
          "HfNi<sub>3</sub> (no ID) <br> -0.566 eV/atom",
          "Ni (no ID) <br> 0.0 eV/atom",
          "HfNi (no ID) <br> -0.494 eV/atom",
          "TiNi<sub>7</sub> (no ID) <br> -0.217 eV/atom",
          "Hf (no ID) <br> 0.0 eV/atom",
          "Hf<sub>2</sub>Ni (no ID) <br> -0.379 eV/atom"
         ],
         "marker": {
          "color": "black",
          "line": {
           "color": "black",
           "width": 3
          },
          "opacity": 0.8,
          "size": 12
         },
         "mode": "markers",
         "name": "Stable",
         "showlegend": true,
         "type": "scatter3d",
         "x": [
          0.649519052838329,
          0,
          0.649519052838329,
          0.8660254037844386,
          0.4330127018922193,
          0.7577722283113838,
          0,
          0.28867513459481287
         ],
         "y": [
          0.625,
          1,
          0.375,
          0.5,
          0.25,
          0.5625,
          0,
          0.16666666666666666
         ],
         "z": [
          -0.425,
          0,
          -0.566,
          0,
          -0.494,
          -0.217,
          0,
          -0.379
         ]
        }
       ],
       "layout": {
        "autosize": true,
        "height": 700,
        "hovermode": "closest",
        "legend": {
         "orientation": "h",
         "traceorder": "reversed",
         "x": 0.5,
         "xanchor": "center",
         "y": 0,
         "yanchor": "top"
        },
        "margin": {
         "b": 10,
         "l": 0,
         "pad": 0,
         "r": 0,
         "t": 0
        },
        "paper_bgcolor": "rgba(0,0,0,0)",
        "plot_bgcolor": "rgba(0,0,0,0)",
        "scene": {
         "annotations": [
          {
           "align": "center",
           "font": {
            "color": "#000000",
            "size": 24
           },
           "opacity": 1,
           "showarrow": false,
           "text": "Ti",
           "x": 0,
           "xanchor": "right",
           "xshift": -10,
           "y": 1,
           "yanchor": "auto",
           "yshift": -10,
           "z": -0.5097148072457361
          },
          {
           "align": "center",
           "font": {
            "color": "#000000",
            "size": 24
           },
           "opacity": 1,
           "showarrow": false,
           "text": "Ni",
           "x": 0.8660254037844386,
           "xanchor": "right",
           "xshift": -10,
           "y": 0.5,
           "yanchor": "auto",
           "yshift": -10,
           "z": -0.5097148072457361
          },
          {
           "align": "center",
           "font": {
            "color": "#000000",
            "size": 24
           },
           "opacity": 1,
           "showarrow": false,
           "text": "Hf",
           "x": 0,
           "xanchor": "right",
           "xshift": -10,
           "y": 0,
           "yanchor": "auto",
           "yshift": -10,
           "z": -0.5097148072457361
          },
          {
           "opacity": 0,
           "text": "",
           "x": 1,
           "y": 1,
           "z": 0
          }
         ],
         "aspectratio": {
          "x": 1.7,
          "y": 1.7,
          "z": 1.2
         },
         "camera": {
          "center": {
           "x": -0.1,
           "y": 0,
           "z": -0.15
          },
          "eye": {
           "x": -0.1,
           "y": 0,
           "z": 2.5
          },
          "projection": {
           "type": "orthographic"
          }
         },
         "xaxis": {
          "autorange": true,
          "showaxeslabels": false,
          "showgrid": false,
          "showline": false,
          "showspikes": false,
          "showticklabels": false,
          "ticks": "",
          "visible": false,
          "zeroline": false
         },
         "yaxis": {
          "autorange": true,
          "showaxeslabels": false,
          "showgrid": false,
          "showline": false,
          "showspikes": false,
          "showticklabels": false,
          "ticks": "",
          "visible": false,
          "zeroline": false
         },
         "zaxis": {
          "autorange": true,
          "showaxeslabels": false,
          "showgrid": false,
          "showline": false,
          "showspikes": false,
          "showticklabels": false,
          "ticks": "",
          "visible": false,
          "zeroline": false
         }
        },
        "showlegend": true,
        "template": {
         "data": {
          "bar": [
           {
            "error_x": {
             "color": "#2a3f5f"
            },
            "error_y": {
             "color": "#2a3f5f"
            },
            "marker": {
             "line": {
              "color": "#E5ECF6",
              "width": 0.5
             },
             "pattern": {
              "fillmode": "overlay",
              "size": 10,
              "solidity": 0.2
             }
            },
            "type": "bar"
           }
          ],
          "barpolar": [
           {
            "marker": {
             "line": {
              "color": "#E5ECF6",
              "width": 0.5
             },
             "pattern": {
              "fillmode": "overlay",
              "size": 10,
              "solidity": 0.2
             }
            },
            "type": "barpolar"
           }
          ],
          "carpet": [
           {
            "aaxis": {
             "endlinecolor": "#2a3f5f",
             "gridcolor": "white",
             "linecolor": "white",
             "minorgridcolor": "white",
             "startlinecolor": "#2a3f5f"
            },
            "baxis": {
             "endlinecolor": "#2a3f5f",
             "gridcolor": "white",
             "linecolor": "white",
             "minorgridcolor": "white",
             "startlinecolor": "#2a3f5f"
            },
            "type": "carpet"
           }
          ],
          "choropleth": [
           {
            "colorbar": {
             "outlinewidth": 0,
             "ticks": ""
            },
            "type": "choropleth"
           }
          ],
          "contour": [
           {
            "colorbar": {
             "outlinewidth": 0,
             "ticks": ""
            },
            "colorscale": [
             [
              0,
              "#0d0887"
             ],
             [
              0.1111111111111111,
              "#46039f"
             ],
             [
              0.2222222222222222,
              "#7201a8"
             ],
             [
              0.3333333333333333,
              "#9c179e"
             ],
             [
              0.4444444444444444,
              "#bd3786"
             ],
             [
              0.5555555555555556,
              "#d8576b"
             ],
             [
              0.6666666666666666,
              "#ed7953"
             ],
             [
              0.7777777777777778,
              "#fb9f3a"
             ],
             [
              0.8888888888888888,
              "#fdca26"
             ],
             [
              1,
              "#f0f921"
             ]
            ],
            "type": "contour"
           }
          ],
          "contourcarpet": [
           {
            "colorbar": {
             "outlinewidth": 0,
             "ticks": ""
            },
            "type": "contourcarpet"
           }
          ],
          "heatmap": [
           {
            "colorbar": {
             "outlinewidth": 0,
             "ticks": ""
            },
            "colorscale": [
             [
              0,
              "#0d0887"
             ],
             [
              0.1111111111111111,
              "#46039f"
             ],
             [
              0.2222222222222222,
              "#7201a8"
             ],
             [
              0.3333333333333333,
              "#9c179e"
             ],
             [
              0.4444444444444444,
              "#bd3786"
             ],
             [
              0.5555555555555556,
              "#d8576b"
             ],
             [
              0.6666666666666666,
              "#ed7953"
             ],
             [
              0.7777777777777778,
              "#fb9f3a"
             ],
             [
              0.8888888888888888,
              "#fdca26"
             ],
             [
              1,
              "#f0f921"
             ]
            ],
            "type": "heatmap"
           }
          ],
          "heatmapgl": [
           {
            "colorbar": {
             "outlinewidth": 0,
             "ticks": ""
            },
            "colorscale": [
             [
              0,
              "#0d0887"
             ],
             [
              0.1111111111111111,
              "#46039f"
             ],
             [
              0.2222222222222222,
              "#7201a8"
             ],
             [
              0.3333333333333333,
              "#9c179e"
             ],
             [
              0.4444444444444444,
              "#bd3786"
             ],
             [
              0.5555555555555556,
              "#d8576b"
             ],
             [
              0.6666666666666666,
              "#ed7953"
             ],
             [
              0.7777777777777778,
              "#fb9f3a"
             ],
             [
              0.8888888888888888,
              "#fdca26"
             ],
             [
              1,
              "#f0f921"
             ]
            ],
            "type": "heatmapgl"
           }
          ],
          "histogram": [
           {
            "marker": {
             "pattern": {
              "fillmode": "overlay",
              "size": 10,
              "solidity": 0.2
             }
            },
            "type": "histogram"
           }
          ],
          "histogram2d": [
           {
            "colorbar": {
             "outlinewidth": 0,
             "ticks": ""
            },
            "colorscale": [
             [
              0,
              "#0d0887"
             ],
             [
              0.1111111111111111,
              "#46039f"
             ],
             [
              0.2222222222222222,
              "#7201a8"
             ],
             [
              0.3333333333333333,
              "#9c179e"
             ],
             [
              0.4444444444444444,
              "#bd3786"
             ],
             [
              0.5555555555555556,
              "#d8576b"
             ],
             [
              0.6666666666666666,
              "#ed7953"
             ],
             [
              0.7777777777777778,
              "#fb9f3a"
             ],
             [
              0.8888888888888888,
              "#fdca26"
             ],
             [
              1,
              "#f0f921"
             ]
            ],
            "type": "histogram2d"
           }
          ],
          "histogram2dcontour": [
           {
            "colorbar": {
             "outlinewidth": 0,
             "ticks": ""
            },
            "colorscale": [
             [
              0,
              "#0d0887"
             ],
             [
              0.1111111111111111,
              "#46039f"
             ],
             [
              0.2222222222222222,
              "#7201a8"
             ],
             [
              0.3333333333333333,
              "#9c179e"
             ],
             [
              0.4444444444444444,
              "#bd3786"
             ],
             [
              0.5555555555555556,
              "#d8576b"
             ],
             [
              0.6666666666666666,
              "#ed7953"
             ],
             [
              0.7777777777777778,
              "#fb9f3a"
             ],
             [
              0.8888888888888888,
              "#fdca26"
             ],
             [
              1,
              "#f0f921"
             ]
            ],
            "type": "histogram2dcontour"
           }
          ],
          "mesh3d": [
           {
            "colorbar": {
             "outlinewidth": 0,
             "ticks": ""
            },
            "type": "mesh3d"
           }
          ],
          "parcoords": [
           {
            "line": {
             "colorbar": {
              "outlinewidth": 0,
              "ticks": ""
             }
            },
            "type": "parcoords"
           }
          ],
          "pie": [
           {
            "automargin": true,
            "type": "pie"
           }
          ],
          "scatter": [
           {
            "marker": {
             "colorbar": {
              "outlinewidth": 0,
              "ticks": ""
             }
            },
            "type": "scatter"
           }
          ],
          "scatter3d": [
           {
            "line": {
             "colorbar": {
              "outlinewidth": 0,
              "ticks": ""
             }
            },
            "marker": {
             "colorbar": {
              "outlinewidth": 0,
              "ticks": ""
             }
            },
            "type": "scatter3d"
           }
          ],
          "scattercarpet": [
           {
            "marker": {
             "colorbar": {
              "outlinewidth": 0,
              "ticks": ""
             }
            },
            "type": "scattercarpet"
           }
          ],
          "scattergeo": [
           {
            "marker": {
             "colorbar": {
              "outlinewidth": 0,
              "ticks": ""
             }
            },
            "type": "scattergeo"
           }
          ],
          "scattergl": [
           {
            "marker": {
             "colorbar": {
              "outlinewidth": 0,
              "ticks": ""
             }
            },
            "type": "scattergl"
           }
          ],
          "scattermapbox": [
           {
            "marker": {
             "colorbar": {
              "outlinewidth": 0,
              "ticks": ""
             }
            },
            "type": "scattermapbox"
           }
          ],
          "scatterpolar": [
           {
            "marker": {
             "colorbar": {
              "outlinewidth": 0,
              "ticks": ""
             }
            },
            "type": "scatterpolar"
           }
          ],
          "scatterpolargl": [
           {
            "marker": {
             "colorbar": {
              "outlinewidth": 0,
              "ticks": ""
             }
            },
            "type": "scatterpolargl"
           }
          ],
          "scatterternary": [
           {
            "marker": {
             "colorbar": {
              "outlinewidth": 0,
              "ticks": ""
             }
            },
            "type": "scatterternary"
           }
          ],
          "surface": [
           {
            "colorbar": {
             "outlinewidth": 0,
             "ticks": ""
            },
            "colorscale": [
             [
              0,
              "#0d0887"
             ],
             [
              0.1111111111111111,
              "#46039f"
             ],
             [
              0.2222222222222222,
              "#7201a8"
             ],
             [
              0.3333333333333333,
              "#9c179e"
             ],
             [
              0.4444444444444444,
              "#bd3786"
             ],
             [
              0.5555555555555556,
              "#d8576b"
             ],
             [
              0.6666666666666666,
              "#ed7953"
             ],
             [
              0.7777777777777778,
              "#fb9f3a"
             ],
             [
              0.8888888888888888,
              "#fdca26"
             ],
             [
              1,
              "#f0f921"
             ]
            ],
            "type": "surface"
           }
          ],
          "table": [
           {
            "cells": {
             "fill": {
              "color": "#EBF0F8"
             },
             "line": {
              "color": "white"
             }
            },
            "header": {
             "fill": {
              "color": "#C8D4E3"
             },
             "line": {
              "color": "white"
             }
            },
            "type": "table"
           }
          ]
         },
         "layout": {
          "annotationdefaults": {
           "arrowcolor": "#2a3f5f",
           "arrowhead": 0,
           "arrowwidth": 1
          },
          "autotypenumbers": "strict",
          "coloraxis": {
           "colorbar": {
            "outlinewidth": 0,
            "ticks": ""
           }
          },
          "colorscale": {
           "diverging": [
            [
             0,
             "#8e0152"
            ],
            [
             0.1,
             "#c51b7d"
            ],
            [
             0.2,
             "#de77ae"
            ],
            [
             0.3,
             "#f1b6da"
            ],
            [
             0.4,
             "#fde0ef"
            ],
            [
             0.5,
             "#f7f7f7"
            ],
            [
             0.6,
             "#e6f5d0"
            ],
            [
             0.7,
             "#b8e186"
            ],
            [
             0.8,
             "#7fbc41"
            ],
            [
             0.9,
             "#4d9221"
            ],
            [
             1,
             "#276419"
            ]
           ],
           "sequential": [
            [
             0,
             "#0d0887"
            ],
            [
             0.1111111111111111,
             "#46039f"
            ],
            [
             0.2222222222222222,
             "#7201a8"
            ],
            [
             0.3333333333333333,
             "#9c179e"
            ],
            [
             0.4444444444444444,
             "#bd3786"
            ],
            [
             0.5555555555555556,
             "#d8576b"
            ],
            [
             0.6666666666666666,
             "#ed7953"
            ],
            [
             0.7777777777777778,
             "#fb9f3a"
            ],
            [
             0.8888888888888888,
             "#fdca26"
            ],
            [
             1,
             "#f0f921"
            ]
           ],
           "sequentialminus": [
            [
             0,
             "#0d0887"
            ],
            [
             0.1111111111111111,
             "#46039f"
            ],
            [
             0.2222222222222222,
             "#7201a8"
            ],
            [
             0.3333333333333333,
             "#9c179e"
            ],
            [
             0.4444444444444444,
             "#bd3786"
            ],
            [
             0.5555555555555556,
             "#d8576b"
            ],
            [
             0.6666666666666666,
             "#ed7953"
            ],
            [
             0.7777777777777778,
             "#fb9f3a"
            ],
            [
             0.8888888888888888,
             "#fdca26"
            ],
            [
             1,
             "#f0f921"
            ]
           ]
          },
          "colorway": [
           "#636efa",
           "#EF553B",
           "#00cc96",
           "#ab63fa",
           "#FFA15A",
           "#19d3f3",
           "#FF6692",
           "#B6E880",
           "#FF97FF",
           "#FECB52"
          ],
          "font": {
           "color": "#2a3f5f"
          },
          "geo": {
           "bgcolor": "white",
           "lakecolor": "white",
           "landcolor": "#E5ECF6",
           "showlakes": true,
           "showland": true,
           "subunitcolor": "white"
          },
          "hoverlabel": {
           "align": "left"
          },
          "hovermode": "closest",
          "mapbox": {
           "style": "light"
          },
          "paper_bgcolor": "white",
          "plot_bgcolor": "#E5ECF6",
          "polar": {
           "angularaxis": {
            "gridcolor": "white",
            "linecolor": "white",
            "ticks": ""
           },
           "bgcolor": "#E5ECF6",
           "radialaxis": {
            "gridcolor": "white",
            "linecolor": "white",
            "ticks": ""
           }
          },
          "scene": {
           "xaxis": {
            "backgroundcolor": "#E5ECF6",
            "gridcolor": "white",
            "gridwidth": 2,
            "linecolor": "white",
            "showbackground": true,
            "ticks": "",
            "zerolinecolor": "white"
           },
           "yaxis": {
            "backgroundcolor": "#E5ECF6",
            "gridcolor": "white",
            "gridwidth": 2,
            "linecolor": "white",
            "showbackground": true,
            "ticks": "",
            "zerolinecolor": "white"
           },
           "zaxis": {
            "backgroundcolor": "#E5ECF6",
            "gridcolor": "white",
            "gridwidth": 2,
            "linecolor": "white",
            "showbackground": true,
            "ticks": "",
            "zerolinecolor": "white"
           }
          },
          "shapedefaults": {
           "line": {
            "color": "#2a3f5f"
           }
          },
          "ternary": {
           "aaxis": {
            "gridcolor": "white",
            "linecolor": "white",
            "ticks": ""
           },
           "baxis": {
            "gridcolor": "white",
            "linecolor": "white",
            "ticks": ""
           },
           "bgcolor": "#E5ECF6",
           "caxis": {
            "gridcolor": "white",
            "linecolor": "white",
            "ticks": ""
           }
          },
          "title": {
           "x": 0.05
          },
          "xaxis": {
           "automargin": true,
           "gridcolor": "white",
           "linecolor": "white",
           "ticks": "",
           "title": {
            "standoff": 15
           },
           "zerolinecolor": "white",
           "zerolinewidth": 2
          },
          "yaxis": {
           "automargin": true,
           "gridcolor": "white",
           "linecolor": "white",
           "ticks": "",
           "title": {
            "standoff": 15
           },
           "zerolinecolor": "white",
           "zerolinewidth": 2
          }
         }
        }
       }
      }
     },
     "metadata": {},
     "output_type": "display_data"
    }
   ],
   "source": [
    "pd_plot = PD.PDPlotter(pd, show_unstable=0.05)\n",
    "pd_plot.show(label_unstable=False) # If you don't set label_unstable=False, you're gonna have a bad time"
   ]
  },
  {
   "cell_type": "code",
   "execution_count": 28,
   "metadata": {},
   "outputs": [],
   "source": [
    "a=PD.PDEntry(\"Ni2Ti2\",-39.24)"
   ]
  },
  {
   "cell_type": "code",
   "execution_count": 29,
   "metadata": {},
   "outputs": [
    {
     "name": "stdout",
     "output_type": "stream",
     "text": [
      "1\n",
      "4\n",
      "483\n",
      "668\n",
      "2100\n",
      "2313\n",
      "2796\n",
      "13388\n",
      "suppling\n"
     ]
    }
   ],
   "source": [
    "counter=0\n",
    "for struct in pd.all_entries:\n",
    "    if pd.get_e_above_hull(struct)==0:\n",
    "        print(counter)\n",
    "    counter+=1\n",
    "print(\"suppling\")"
   ]
  },
  {
   "cell_type": "code",
   "execution_count": 30,
   "metadata": {},
   "outputs": [
    {
     "name": "stdout",
     "output_type": "stream",
     "text": [
      "51394\n"
     ]
    }
   ],
   "source": [
    "print(counter)"
   ]
  },
  {
   "cell_type": "markdown",
   "metadata": {},
   "source": [
    "## How to save a figure\n",
    "#### If you're working in a terminal environment and you can't view the image, use this command"
   ]
  },
  {
   "cell_type": "markdown",
   "metadata": {},
   "source": [
    "pd_plot.write_image(\"HfNiTi.svg\", image_format=\"svg\", label_unstable=False)  # You need to pass in pd.show() parameters"
   ]
  }
 ],
 "metadata": {
  "kernelspec": {
   "display_name": "Python 3",
   "language": "python",
   "name": "python3"
  },
  "language_info": {
   "codemirror_mode": {
    "name": "ipython",
    "version": 3
   },
   "file_extension": ".py",
   "mimetype": "text/x-python",
   "name": "python",
   "nbconvert_exporter": "python",
   "pygments_lexer": "ipython3",
   "version": "3.8.5"
  }
 },
 "nbformat": 4,
 "nbformat_minor": 2
}
